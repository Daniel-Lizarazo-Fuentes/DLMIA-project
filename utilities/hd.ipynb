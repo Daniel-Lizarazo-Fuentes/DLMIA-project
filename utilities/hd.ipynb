{
 "cells": [
  {
   "cell_type": "code",
   "execution_count": null,
   "metadata": {},
   "outputs": [],
   "source": [
    "%pip install medpy\n",
    "%pip install pynrrd"
   ]
  },
  {
   "cell_type": "code",
   "execution_count": 7,
   "metadata": {},
   "outputs": [],
   "source": [
    "import os\n",
    "import nrrd\n",
    "from medpy.metric.binary import hd95"
   ]
  },
  {
   "cell_type": "code",
   "execution_count": null,
   "metadata": {},
   "outputs": [
    {
     "name": "stdout",
     "output_type": "stream",
     "text": [
      "DISEASED_017.nrrd: Hausdorff 95 distance = 17.88854381999832\n",
      "DISEASED_018.nrrd: Hausdorff 95 distance = 2.23606797749979\n",
      "DISEASED_019.nrrd: Hausdorff 95 distance = 3.0\n",
      "DISEASED_020.nrrd: Hausdorff 95 distance = 5.477225575051661\n",
      "NORMAL_017.nrrd: Hausdorff 95 distance = 1.4142135623730951\n"
     ]
    }
   ],
   "source": [
    "hd = {}\n",
    "\n",
    "folder1 = \"inferences\"\n",
    "folder2 = \"labelsTs\"\n",
    "\n",
    "files1 = sorted(f for f in os.listdir(folder1) if f.endswith(\".nrrd\"))\n",
    "files2 = sorted(f for f in os.listdir(folder2) if f.endswith(\".nrrd\"))\n",
    "\n",
    "common_files = sorted(set(files1) & set(files2))\n",
    "\n",
    "for filename in common_files:\n",
    "    seg1_path = os.path.join(folder1, filename)\n",
    "    seg2_path = os.path.join(folder2, filename)\n",
    "\n",
    "    seg1, _ = nrrd.read(seg1_path)\n",
    "    seg2, _ = nrrd.read(seg2_path)\n",
    "\n",
    "    seg1 = (seg1 >= 0.5).astype(int)\n",
    "    seg2 = (seg2 >= 0.5).astype(int)\n",
    "    \n",
    "    hausdorff_95 = hd95(seg1, seg2)\n",
    "    hd[f'{filename}'] = hausdorff_95\n",
    "    print(f\"{filename}: Hausdorff 95 distance = {hausdorff_95}\")"
   ]
  },
  {
   "cell_type": "code",
   "execution_count": 3,
   "metadata": {},
   "outputs": [
    {
     "name": "stdout",
     "output_type": "stream",
     "text": [
      "5.155835332209829\n"
     ]
    }
   ],
   "source": [
    "print(sum(hd.values()) / len(hd))"
   ]
  }
 ],
 "metadata": {
  "kernelspec": {
   "display_name": "venv",
   "language": "python",
   "name": "python3"
  },
  "language_info": {
   "codemirror_mode": {
    "name": "ipython",
    "version": 3
   },
   "file_extension": ".py",
   "mimetype": "text/x-python",
   "name": "python",
   "nbconvert_exporter": "python",
   "pygments_lexer": "ipython3",
   "version": "3.11.2"
  }
 },
 "nbformat": 4,
 "nbformat_minor": 2
}
