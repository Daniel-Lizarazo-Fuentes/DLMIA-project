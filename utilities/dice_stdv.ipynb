{
 "cells": [
  {
   "cell_type": "code",
   "execution_count": 1,
   "id": "459c4a94",
   "metadata": {
    "vscode": {
     "languageId": "shellscript"
    }
   },
   "outputs": [],
   "source": [
    "import json\n",
    "import numpy as np\n"
   ]
  },
  {
   "cell_type": "code",
   "execution_count": null,
   "id": "d69f93c2",
   "metadata": {
    "vscode": {
     "languageId": "shellscript"
    }
   },
   "outputs": [
    {
     "name": "stdout",
     "output_type": "stream",
     "text": [
      "Average Dice: 0.5268\n",
      "Standard Deviation of Dice: 0.1414\n"
     ]
    }
   ],
   "source": [
    "\n",
    "def compute_dice_stats_from_file(file_path):\n",
    "    \"\"\"\n",
    "    Computes the average Dice score and its standard deviation from a JSON file.\n",
    "\n",
    "    Args:\n",
    "        file_path (str): The path to the JSON file.\n",
    "\n",
    "    Returns:\n",
    "        tuple: A tuple containing the average Dice score and the standard deviation,\n",
    "               or (None, None) if there's an error reading the file.\n",
    "    \"\"\"\n",
    "    try:\n",
    "        with open(file_path, 'r') as f:\n",
    "            data = json.load(f)\n",
    "    except FileNotFoundError:\n",
    "        print(f\"Error: File not found at {file_path}\")\n",
    "        return None, None\n",
    "    except json.JSONDecodeError:\n",
    "        print(f\"Error: Could not decode JSON from {file_path}\")\n",
    "        return None, None\n",
    "\n",
    "    dice_scores = [case[\"metrics\"][\"1\"][\"Dice\"] for case in data[\"metric_per_case\"]]\n",
    "    average_dice = np.mean(dice_scores)\n",
    "    std_dice = np.std(dice_scores)\n",
    "\n",
    "    return average_dice, std_dice\n",
    "\n",
    "if __name__ == \"__main__\":\n",
    "    file_path = '../nnU-Net/600.json'  \n",
    "    average, std = compute_dice_stats_from_file(file_path)\n",
    "\n",
    "    if average is not None and std is not None: \n",
    "        print(f\"Average Dice: {average:.4f}\")\n",
    "        print(f\"Standard Deviation of Dice: {std:.4f}\")"
   ]
  }
 ],
 "metadata": {
  "kernelspec": {
   "display_name": "venv",
   "language": "python",
   "name": "python3"
  },
  "language_info": {
   "codemirror_mode": {
    "name": "ipython",
    "version": 3
   },
   "file_extension": ".py",
   "mimetype": "text/x-python",
   "name": "python",
   "nbconvert_exporter": "python",
   "pygments_lexer": "ipython3",
   "version": "3.13.3"
  }
 },
 "nbformat": 4,
 "nbformat_minor": 5
}
