{
 "cells": [
  {
   "cell_type": "markdown",
   "id": "b2081d3e",
   "metadata": {},
   "source": [
    "Monitoring:"
   ]
  },
  {
   "cell_type": "code",
   "execution_count": null,
   "id": "1e620dc9",
   "metadata": {
    "vscode": {
     "languageId": "shellscript"
    }
   },
   "outputs": [],
   "source": [
    "nvidia-smi\n",
    "# watch -n0.1 nvidia-smi # does not render through notebook script, needs to be in native bash terminal"
   ]
  },
  {
   "cell_type": "markdown",
   "id": "b2719948",
   "metadata": {},
   "source": [
    "Check available cluster resources"
   ]
  },
  {
   "cell_type": "code",
   "execution_count": null,
   "id": "faf895f0",
   "metadata": {
    "vscode": {
     "languageId": "shellscript"
    }
   },
   "outputs": [],
   "source": [
    "df -h /dev/shm"
   ]
  },
  {
   "cell_type": "markdown",
   "id": "ef708224",
   "metadata": {},
   "source": [
    "Kill all nnUNet related processes and children if necessary "
   ]
  },
  {
   "cell_type": "code",
   "execution_count": null,
   "id": "0998ca35",
   "metadata": {
    "vscode": {
     "languageId": "shellscript"
    }
   },
   "outputs": [],
   "source": [
    "# ps aux | grep nnUNetv2_train\n",
    "ps aux | grep nnUNetv2_train | grep -v grep | awk '{print $2}' | xargs kill -9"
   ]
  },
  {
   "cell_type": "markdown",
   "id": "02994b07",
   "metadata": {},
   "source": [
    "Test paths"
   ]
  },
  {
   "cell_type": "code",
   "execution_count": null,
   "id": "428b50b9",
   "metadata": {
    "vscode": {
     "languageId": "shellscript"
    }
   },
   "outputs": [],
   "source": [
    "export nnUNet_raw=\"/home/jovyan/nnU-Net/nnUNet_raw\"\n",
    "export nnUNet_preprocessed=\"/home/jovyan/nnU-Net/nnUNet_preprocessed\"\n",
    "export nnUNet_results=\"/home/jovyan/nnU-Net/nnUNet_results\""
   ]
  },
  {
   "cell_type": "code",
   "execution_count": null,
   "id": "f1eb820f",
   "metadata": {
    "vscode": {
     "languageId": "shellscript"
    }
   },
   "outputs": [],
   "source": [
    "echo $nnUNet_raw\n",
    "echo $SHELL"
   ]
  }
 ],
 "metadata": {
  "kernelspec": {
   "display_name": "Bash",
   "language": "bash",
   "name": "bash"
  },
  "language_info": {
   "name": "bash"
  }
 },
 "nbformat": 4,
 "nbformat_minor": 5
}
