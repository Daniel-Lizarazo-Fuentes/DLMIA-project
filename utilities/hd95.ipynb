{
 "cells": [
  {
   "cell_type": "code",
   "execution_count": null,
   "metadata": {},
   "outputs": [
    {
     "name": "stdout",
     "output_type": "stream",
     "text": [
      "Defaulting to user installation because normal site-packages is not writeable\n",
      "Collecting medpy\n",
      "  Downloading medpy-0.5.2.tar.gz (156 kB)\n",
      "  Preparing metadata (setup.py) ... \u001b[?25ldone\n",
      "\u001b[?25hRequirement already satisfied: SimpleITK>=2.1 in ./.local/lib/python3.10/site-packages (from medpy) (2.4.1)\n",
      "Requirement already satisfied: numpy>=1.24 in /usr/local/lib/python3.10/dist-packages (from medpy) (1.26.4)\n",
      "Requirement already satisfied: scipy>=1.10 in /usr/local/lib/python3.10/dist-packages (from medpy) (1.15.2)\n",
      "Building wheels for collected packages: medpy\n",
      "  Building wheel for medpy (setup.py) ... \u001b[?25ldone\n",
      "\u001b[?25h  Created wheel for medpy: filename=MedPy-0.5.2-cp310-cp310-linux_x86_64.whl size=762878 sha256=2ffef8837a4a72e84ca4898d6a231609d0f0258a9631fb8956c7afc5b23cd6e9\n",
      "  Stored in directory: /home/jovyan/.cache/pip/wheels/a1/b8/63/bdf557940ec60d1b8822e73ff9fbe7727ac19f009d46b5d175\n",
      "Successfully built medpy\n",
      "Installing collected packages: medpy\n",
      "Successfully installed medpy-0.5.2\n",
      "Note: you may need to restart the kernel to use updated packages.\n",
      "Defaulting to user installation because normal site-packages is not writeable\n",
      "Collecting pynrrd\n",
      "  Using cached pynrrd-1.1.3-py3-none-any.whl.metadata (5.4 kB)\n",
      "Requirement already satisfied: numpy>=1.21 in /usr/local/lib/python3.10/dist-packages (from pynrrd) (1.26.4)\n",
      "Requirement already satisfied: typing_extensions in /usr/local/lib/python3.10/dist-packages (from pynrrd) (4.12.2)\n",
      "Using cached pynrrd-1.1.3-py3-none-any.whl (23 kB)\n",
      "Installing collected packages: pynrrd\n",
      "Successfully installed pynrrd-1.1.3\n",
      "Note: you may need to restart the kernel to use updated packages.\n"
     ]
    }
   ],
   "source": [
    "%pip install medpy"
   ]
  },
  {
   "cell_type": "code",
   "execution_count": 10,
   "metadata": {},
   "outputs": [],
   "source": [
    "import os\n",
    "import numpy as np\n",
    "from medpy.metric.binary import hd95\n",
    "import SimpleITK as sitk"
   ]
  },
  {
   "cell_type": "code",
   "execution_count": 20,
   "metadata": {},
   "outputs": [
    {
     "name": "stdout",
     "output_type": "stream",
     "text": [
      "DISEASED_017.nrrd: Hausdorff 95 distance = 208.71595530455835\n",
      "DISEASED_018.nrrd: Hausdorff 95 distance = 108.89627993680759\n",
      "DISEASED_019.nrrd: Hausdorff 95 distance = 113.00884921102418\n",
      "DISEASED_020.nrrd: Hausdorff 95 distance = 123.48461440982119\n",
      "NORMAL_017.nrrd: Hausdorff 95 distance = 112.00267821554691\n",
      "NORMAL_018.nrrd: Hausdorff 95 distance = 46.55963649842015\n",
      "NORMAL_019.nrrd: Hausdorff 95 distance = 100.75514828254357\n",
      "NORMAL_020.nrrd: Hausdorff 95 distance = 196.9111474752001\n"
     ]
    }
   ],
   "source": [
    "hd = {}\n",
    "foldername = \"Dataset600_cropped\" #\"Dataset300_combined\" #Dataset500_augmented #Dataset600_cropped\n",
    "filetype = \".nrrd\" #\".nrrd\" #.nii.gz\n",
    "folder1 = f\"/home/jovyan/nnU-Net/nnUNet_results/{foldername}/inference/test/ensemble/\"\n",
    "folder2 = f\"/home/jovyan/nnU-Net/nnUNet_raw/{foldername}/labelsTs\"\n",
    "\n",
    "files1 = sorted(f for f in os.listdir(folder1) if f.endswith(filetype))\n",
    "files2 = sorted(f for f in os.listdir(folder2) if f.endswith(filetype))\n",
    "\n",
    "common_files = sorted(set(files1) & set(files2))\n",
    "\n",
    "for filename in common_files:\n",
    "    seg1_path = os.path.join(folder1, filename)\n",
    "    seg2_path = os.path.join(folder2, filename)\n",
    "\n",
    "    seg1_sitk = sitk.ReadImage(seg1_path)\n",
    "    seg2_sitk = sitk.ReadImage(seg2_path)\n",
    "\n",
    "    seg1 = sitk.GetArrayFromImage(seg1_sitk)\n",
    "    seg2 = sitk.GetArrayFromImage(seg2_sitk)\n",
    "    \n",
    "    hausdorff_95 = hd95(seg1, seg2)\n",
    "    hd[f'{filename}'] = hausdorff_95\n",
    "    print(f\"{filename}: Hausdorff 95 distance = {hausdorff_95}\")"
   ]
  },
  {
   "cell_type": "code",
   "execution_count": 21,
   "metadata": {},
   "outputs": [
    {
     "name": "stdout",
     "output_type": "stream",
     "text": [
      "[208.71595530455835, 108.89627993680759, 113.00884921102418, 123.48461440982119, 112.00267821554691, 46.55963649842015, 100.75514828254357, 196.9111474752001]\n"
     ]
    }
   ],
   "source": [
    "print(list(hd.values()))\n",
    "hd_list = list(hd.values())"
   ]
  },
  {
   "cell_type": "code",
   "execution_count": 22,
   "metadata": {},
   "outputs": [
    {
     "name": "stdout",
     "output_type": "stream",
     "text": [
      "126.29178866674026\n",
      "49.34733058296218\n"
     ]
    }
   ],
   "source": [
    "print(sum(hd_list) / len(hd_list))\n",
    "print(np.std(hd_list))"
   ]
  }
 ],
 "metadata": {
  "kernelspec": {
   "display_name": "Python",
   "language": "python",
   "name": "python3"
  },
  "language_info": {
   "codemirror_mode": {
    "name": "ipython",
    "version": 3
   },
   "file_extension": ".py",
   "mimetype": "text/x-python",
   "name": "python",
   "nbconvert_exporter": "python",
   "pygments_lexer": "ipython3",
   "version": "3.10.12"
  }
 },
 "nbformat": 4,
 "nbformat_minor": 2
}
