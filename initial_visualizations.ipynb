{
 "cells": [
  {
   "cell_type": "code",
   "execution_count": null,
   "metadata": {},
   "outputs": [],
   "source": [
    "# Dependencies\n",
    "\n",
    "%pip install SimpleITK\n",
    "%pip install matplotlib\n",
    "%pip install numpy\n",
    "%pip install \"pyvista[jupyter]\" \n",
    "# %pip install trame ipywidgets"
   ]
  },
  {
   "cell_type": "code",
   "execution_count": 2,
   "metadata": {},
   "outputs": [],
   "source": [
    "import SimpleITK as sitk\n",
    "import numpy as np\n",
    "import matplotlib.pyplot as plt\n",
    "import os\n",
    "import pyvista as pv"
   ]
  },
  {
   "cell_type": "code",
   "execution_count": 37,
   "metadata": {},
   "outputs": [
    {
     "data": {
      "application/vnd.jupyter.widget-view+json": {
       "model_id": "2b975867f0614e63a63644c5f9222d52",
       "version_major": 2,
       "version_minor": 0
      },
      "text/plain": [
       "Widget(value='<iframe src=\"http://localhost:63732/index.html?ui=P_0x1ab8d0ab1d0_31&reconnect=auto\" class=\"pyvi…"
      ]
     },
     "metadata": {},
     "output_type": "display_data"
    }
   ],
   "source": [
    "# image = sitk.ReadImage(\"ASOCA/Normal/CTCA/Normal_1.nrrd\")\n",
    "# image_array = sitk.GetArrayFromImage(image)\n",
    "# image_array = np.swapaxes(image_array, 0, 2)\n",
    "# plt.figure()\n",
    "# plt.imshow(image_array[:, :, 100].transpose(), cmap=\"gray\", vmin=0, vmax=100)\n",
    "# plt.show()\n",
    "\n",
    "volume = pv.read(\"ASOCA/Normal/CTCA/Normal_1.nrrd\")\n",
    "centerline = pv.read(\"ASOCA/Normal/Centerlines/Normal_1.vtp\")\n",
    "annotations = pv.read(\"ASOCA/Normal/Annotations/Normal_1.nrrd\")\n",
    "mesh = pv.read(\"ASOCA/Normal/SurfaceMeshes/Normal_1.stl\")\n",
    "\n",
    "clim = (0, 200)\n",
    "\n",
    "plotter = pv.Plotter()\n",
    "plotter.add_volume(volume, clim=clim, cmap=\"gray\")\n",
    "plotter.add_volume(annotations, clim=clim,cmap=\"cividis\")  \n",
    "\n",
    "# plotter.add_mesh(centerline, color=\"red\", line_width=2)  \n",
    "# plotter.add_mesh(mesh, color=\"lightblue\", opacity=0.7)\n",
    "plotter.show()\n"
   ]
  }
 ],
 "metadata": {
  "kernelspec": {
   "display_name": "venv",
   "language": "python",
   "name": "python3"
  },
  "language_info": {
   "codemirror_mode": {
    "name": "ipython",
    "version": 3
   },
   "file_extension": ".py",
   "mimetype": "text/x-python",
   "name": "python",
   "nbconvert_exporter": "python",
   "pygments_lexer": "ipython3",
   "version": "3.11.2"
  }
 },
 "nbformat": 4,
 "nbformat_minor": 2
}
