{
 "cells": [
  {
   "cell_type": "markdown",
   "metadata": {},
   "source": [
    "# Dependencies and imports"
   ]
  },
  {
   "cell_type": "code",
   "execution_count": null,
   "metadata": {},
   "outputs": [],
   "source": [
    "# Dependencies\n",
    "%pip install numpy\n",
    "%pip install pyvista\n",
    "%pip install \"pyvista[jupyter]\" \n",
    "%pip install trame ipywidgets\n"
   ]
  },
  {
   "cell_type": "code",
   "execution_count": 1,
   "metadata": {},
   "outputs": [],
   "source": [
    "# import numpy as np\n",
    "# import os\n",
    "import pyvista as pv\n",
    "import matplotlib.pyplot as plt\n",
    "# import torch "
   ]
  },
  {
   "cell_type": "markdown",
   "metadata": {},
   "source": [
    "# Loading in the data"
   ]
  },
  {
   "cell_type": "code",
   "execution_count": 3,
   "metadata": {},
   "outputs": [],
   "source": [
    "image_class = \"Diseased\"\n",
    "number = 1"
   ]
  },
  {
   "cell_type": "code",
   "execution_count": null,
   "metadata": {},
   "outputs": [],
   "source": [
    "volume = pv.read(f\"ASOCA/{image_class}/CTCA/{image_class}_{number}.nrrd\")\n",
    "centerline = pv.read(f\"ASOCA/{image_class}/ReorientedCenterlines/{image_class}_{number}.vtp\")\n",
    "annotations = pv.read(f\"ASOCA/{image_class}/Annotations/{image_class}_{number}.nrrd\")\n",
    "mesh = pv.read(f\"ASOCA/{image_class}/ReorientedMeshes/{image_class}_{number}.stl\")"
   ]
  },
  {
   "cell_type": "markdown",
   "metadata": {},
   "source": [
    "# Exploratory analysis"
   ]
  },
  {
   "cell_type": "markdown",
   "metadata": {},
   "source": [
    "## Volumes"
   ]
  },
  {
   "cell_type": "code",
   "execution_count": 4,
   "metadata": {},
   "outputs": [
    {
     "name": "stdout",
     "output_type": "stream",
     "text": [
      "Volume:\n",
      " ImageData (0x76e19bdbf100)\n",
      "  N Cells:      58229983\n",
      "  N Points:     58720256\n",
      "  X Bounds:     -8.920e+01, 1.084e+02\n",
      "  Y Bounds:     -1.643e+02, 3.331e+01\n",
      "  Z Bounds:     -1.851e+02, -4.575e+01\n",
      "  Dimensions:   512, 512, 224\n",
      "  Spacing:      3.867e-01, 3.867e-01, 6.250e-01\n",
      "  N Arrays:     1\n",
      "Min-Max: -3182 to 3214\n"
     ]
    },
    {
     "data": {
      "image/png": "[encoded data removed]",
      "text/plain": [
       "<Figure size 800x500 with 1 Axes>"
      ]
     },
     "metadata": {},
     "output_type": "display_data"
    },
    {
     "name": "stdout",
     "output_type": "stream",
     "text": [
      "Annotations:\n",
      " ImageData (0x76e19bdbf220)\n",
      "  N Cells:      58229983\n",
      "  N Points:     58720256\n",
      "  X Bounds:     -8.920e+01, 1.084e+02\n",
      "  Y Bounds:     -1.643e+02, 3.331e+01\n",
      "  Z Bounds:     -1.851e+02, -4.575e+01\n",
      "  Dimensions:   512, 512, 224\n",
      "  Spacing:      3.867e-01, 3.867e-01, 6.250e-01\n",
      "  N Arrays:     1\n",
      "Min-Max: 0 to 1\n"
     ]
    }
   ],
   "source": [
    "print(\"Volume:\\n\",volume)\n",
    "\n",
    "\n",
    "scalar_values = volume.point_data[\"ImageScalars\"] \n",
    "print(f\"Min-Max: {scalar_values.min()} to {scalar_values.max()}\")\n",
    "\n",
    "plt.figure(figsize=(8, 5))\n",
    "plt.hist(scalar_values.flatten(), bins=15, color='blue', alpha=0.7)\n",
    "plt.xlabel(\"Scalar Value\")\n",
    "plt.ylabel(\"Frequency\")\n",
    "plt.title(f\"Hounsfield units\")\n",
    "plt.grid(True)\n",
    "plt.show()\n",
    "\n",
    "\n",
    "print(\"Annotations:\\n\",annotations)\n",
    "scalar_values = annotations.point_data[\"ImageScalars\"] \n",
    "print(f\"Min-Max: {scalar_values.min()} to {scalar_values.max()}\")\n"
   ]
  },
  {
   "cell_type": "markdown",
   "metadata": {},
   "source": [
    "## Meshes"
   ]
  },
  {
   "cell_type": "code",
   "execution_count": 5,
   "metadata": {},
   "outputs": [
    {
     "name": "stdout",
     "output_type": "stream",
     "text": [
      "PolyData (0x76e19bdbf1c0)\n",
      "  N Cells:    4\n",
      "  N Points:   4994\n",
      "  N Strips:   0\n",
      "  X Bounds:   -3.316e+01, 5.204e+01\n",
      "  Y Bounds:   -1.088e+02, -1.516e+01\n",
      "  Z Bounds:   -1.603e+02, -7.493e+01\n",
      "  N Arrays:   1\n",
      "PolyData (0x76e19bdbf280)\n",
      "  N Cells:    46156\n",
      "  N Points:   23076\n",
      "  N Strips:   0\n",
      "  X Bounds:   -3.436e+01, 5.289e+01\n",
      "  Y Bounds:   -1.098e+02, -1.447e+01\n",
      "  Z Bounds:   -1.612e+02, -7.288e+01\n",
      "  N Arrays:   0\n"
     ]
    }
   ],
   "source": [
    "print(centerline)\n",
    "print(mesh)"
   ]
  },
  {
   "cell_type": "markdown",
   "metadata": {},
   "source": [
    "# Pyvista visualizer"
   ]
  },
  {
   "cell_type": "code",
   "execution_count": 6,
   "metadata": {},
   "outputs": [],
   "source": [
    "clim = (0, 300)"
   ]
  },
  {
   "cell_type": "code",
   "execution_count": 7,
   "metadata": {},
   "outputs": [
    {
     "data": {
      "application/vnd.jupyter.widget-view+json": {
       "model_id": "60bb189901dc49468bd82cd191ef9d86",
       "version_major": 2,
       "version_minor": 0
      },
      "text/plain": [
       "Widget(value='<iframe src=\"http://localhost:33685/index.html?ui=P_0x76e18db7bb60_0&reconnect=auto\" class=\"pyvi…"
      ]
     },
     "metadata": {},
     "output_type": "display_data"
    }
   ],
   "source": [
    "plotter = pv.Plotter()\n",
    "plotter.add_volume(volume, clim=clim, cmap=\"gray\")\n",
    "# plotter.add_volume(annotations,cmap=\"cividis\",opacity=\"sigmoid\")  \n",
    "plotter.add_mesh(centerline, color=\"red\", line_width=2)  \n",
    "plotter.add_mesh(mesh, color=\"blue\",opacity=0.7)\n",
    "plotter.show()"
   ]
  }
 ],
 "metadata": {
  "kernelspec": {
   "display_name": "Python",
   "language": "python",
   "name": "python3"
  },
  "language_info": {
   "codemirror_mode": {
    "name": "ipython",
    "version": 3
   },
   "file_extension": ".py",
   "mimetype": "text/x-python",
   "name": "python",
   "nbconvert_exporter": "python",
   "pygments_lexer": "ipython3",
   "version": "3.10.12"
  }
 },
 "nbformat": 4,
 "nbformat_minor": 2
}
