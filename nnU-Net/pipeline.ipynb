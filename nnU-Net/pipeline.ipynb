{
 "cells": [
  {
   "cell_type": "markdown",
   "metadata": {},
   "source": [
    "Editing the number of epochs"
   ]
  },
  {
   "cell_type": "code",
   "execution_count": null,
   "metadata": {
    "vscode": {
     "languageId": "shellscript"
    }
   },
   "outputs": [],
   "source": [
    "# recomend to run in the native terminal instead \n",
    "cat /home/jovyan/.local/lib/python3.10/site-packages/nnunetv2/training/nnUNetTrainer/nnUNetTrainer.py\n",
    "#nano /home/jovyan/.local/lib/python3.10/site-packages/nnunetv2/training/nnUNetTrainer/nnUNetTrainer.py"
   ]
  },
  {
   "cell_type": "markdown",
   "metadata": {},
   "source": [
    "# Preprocessing"
   ]
  },
  {
   "cell_type": "code",
   "execution_count": 2,
   "metadata": {
    "vscode": {
     "languageId": "shellscript"
    }
   },
   "outputs": [
    {
     "name": "stdout",
     "output_type": "stream",
     "text": [
      "Fingerprint extraction...\n",
      "Dataset500_augmented\n",
      "Using <class 'nnunetv2.imageio.simpleitk_reader_writer.SimpleITKIO'> as reader/writer\n",
      "\n",
      "####################\n",
      "verify_dataset_integrity Done. \n",
      "If you didn't see any error messages then your dataset is most likely OK!\n",
      "####################\n",
      "\n",
      "Using <class 'nnunetv2.imageio.simpleitk_reader_writer.SimpleITKIO'> as reader/writer\n",
      "100%|███████████████████████████████████████████| 32/32 [00:10<00:00,  3.18it/s]\n",
      "Experiment planning...\n",
      "\n",
      "############################\n",
      "INFO: You are using the old nnU-Net default planner. We have updated our recommendations. Please consider using those instead! Read more here: https://github.com/MIC-DKFZ/nnUNet/blob/master/documentation/resenc_presets.md\n",
      "############################\n",
      "\n",
      "Attempting to find 3d_lowres config. \n",
      "Current spacing: [0.515 0.515 0.515]. \n",
      "Current patch size: (128, 128, 128). \n",
      "Current median shape: [248.54368932 248.54368932 248.54368932]\n",
      "Attempting to find 3d_lowres config. \n",
      "Current spacing: [0.53045 0.53045 0.53045]. \n",
      "Current patch size: (128, 128, 128). \n",
      "Current median shape: [241.30455274 241.30455274 241.30455274]\n",
      "Attempting to find 3d_lowres config. \n",
      "Current spacing: [0.5463635 0.5463635 0.5463635]. \n",
      "Current patch size: (128, 128, 128). \n",
      "Current median shape: [234.27626479 234.27626479 234.27626479]\n",
      "Attempting to find 3d_lowres config. \n",
      "Current spacing: [0.56275441 0.56275441 0.56275441]. \n",
      "Current patch size: (128, 128, 128). \n",
      "Current median shape: [227.45268427 227.45268427 227.45268427]\n",
      "Attempting to find 3d_lowres config. \n",
      "Current spacing: [0.57963704 0.57963704 0.57963704]. \n",
      "Current patch size: (128, 128, 128). \n",
      "Current median shape: [220.8278488 220.8278488 220.8278488]\n",
      "Attempting to find 3d_lowres config. \n",
      "Current spacing: [0.59702615 0.59702615 0.59702615]. \n",
      "Current patch size: (128, 128, 128). \n",
      "Current median shape: [214.39596971 214.39596971 214.39596971]\n",
      "Attempting to find 3d_lowres config. \n",
      "Current spacing: [0.61493693 0.61493693 0.61493693]. \n",
      "Current patch size: (128, 128, 128). \n",
      "Current median shape: [208.1514269 208.1514269 208.1514269]\n",
      "Attempting to find 3d_lowres config. \n",
      "Current spacing: [0.63338504 0.63338504 0.63338504]. \n",
      "Current patch size: (128, 128, 128). \n",
      "Current median shape: [202.08876398 202.08876398 202.08876398]\n",
      "2D U-Net configuration:\n",
      "{'data_identifier': 'nnUNetPlans_2d', 'preprocessor_name': 'DefaultPreprocessor', 'batch_size': 49, 'patch_size': (256, 256), 'median_image_size_in_voxels': array([256., 256.]), 'spacing': array([0.5, 0.5]), 'normalization_schemes': ['CTNormalization'], 'use_mask_for_norm': [False], 'resampling_fn_data': 'resample_data_or_seg_to_shape', 'resampling_fn_seg': 'resample_data_or_seg_to_shape', 'resampling_fn_data_kwargs': {'is_seg': False, 'order': 3, 'order_z': 0, 'force_separate_z': None}, 'resampling_fn_seg_kwargs': {'is_seg': True, 'order': 1, 'order_z': 0, 'force_separate_z': None}, 'resampling_fn_probabilities': 'resample_data_or_seg_to_shape', 'resampling_fn_probabilities_kwargs': {'is_seg': False, 'order': 1, 'order_z': 0, 'force_separate_z': None}, 'architecture': {'network_class_name': 'dynamic_network_architectures.architectures.unet.PlainConvUNet', 'arch_kwargs': {'n_stages': 7, 'features_per_stage': (32, 64, 128, 256, 512, 512, 512), 'conv_op': 'torch.nn.modules.conv.Conv2d', 'kernel_sizes': ((3, 3), (3, 3), (3, 3), (3, 3), (3, 3), (3, 3), (3, 3)), 'strides': ((1, 1), (2, 2), (2, 2), (2, 2), (2, 2), (2, 2), (2, 2)), 'n_conv_per_stage': (2, 2, 2, 2, 2, 2, 2), 'n_conv_per_stage_decoder': (2, 2, 2, 2, 2, 2), 'conv_bias': True, 'norm_op': 'torch.nn.modules.instancenorm.InstanceNorm2d', 'norm_op_kwargs': {'eps': 1e-05, 'affine': True}, 'dropout_op': None, 'dropout_op_kwargs': None, 'nonlin': 'torch.nn.LeakyReLU', 'nonlin_kwargs': {'inplace': True}}, '_kw_requires_import': ('conv_op', 'norm_op', 'dropout_op', 'nonlin')}, 'batch_dice': True}\n",
      "\n",
      "Using <class 'nnunetv2.imageio.simpleitk_reader_writer.SimpleITKIO'> as reader/writer\n",
      "3D lowres U-Net configuration:\n",
      "{'data_identifier': 'nnUNetPlans_3d_lowres', 'preprocessor_name': 'DefaultPreprocessor', 'batch_size': 2, 'patch_size': (128, 128, 128), 'median_image_size_in_voxels': (202, 202, 202), 'spacing': array([0.63338504, 0.63338504, 0.63338504]), 'normalization_schemes': ['CTNormalization'], 'use_mask_for_norm': [False], 'resampling_fn_data': 'resample_data_or_seg_to_shape', 'resampling_fn_seg': 'resample_data_or_seg_to_shape', 'resampling_fn_data_kwargs': {'is_seg': False, 'order': 3, 'order_z': 0, 'force_separate_z': None}, 'resampling_fn_seg_kwargs': {'is_seg': True, 'order': 1, 'order_z': 0, 'force_separate_z': None}, 'resampling_fn_probabilities': 'resample_data_or_seg_to_shape', 'resampling_fn_probabilities_kwargs': {'is_seg': False, 'order': 1, 'order_z': 0, 'force_separate_z': None}, 'architecture': {'network_class_name': 'dynamic_network_architectures.architectures.unet.PlainConvUNet', 'arch_kwargs': {'n_stages': 6, 'features_per_stage': (32, 64, 128, 256, 320, 320), 'conv_op': 'torch.nn.modules.conv.Conv3d', 'kernel_sizes': ((3, 3, 3), (3, 3, 3), (3, 3, 3), (3, 3, 3), (3, 3, 3), (3, 3, 3)), 'strides': ((1, 1, 1), (2, 2, 2), (2, 2, 2), (2, 2, 2), (2, 2, 2), (2, 2, 2)), 'n_conv_per_stage': (2, 2, 2, 2, 2, 2), 'n_conv_per_stage_decoder': (2, 2, 2, 2, 2), 'conv_bias': True, 'norm_op': 'torch.nn.modules.instancenorm.InstanceNorm3d', 'norm_op_kwargs': {'eps': 1e-05, 'affine': True}, 'dropout_op': None, 'dropout_op_kwargs': None, 'nonlin': 'torch.nn.LeakyReLU', 'nonlin_kwargs': {'inplace': True}}, '_kw_requires_import': ('conv_op', 'norm_op', 'dropout_op', 'nonlin')}, 'batch_dice': False, 'next_stage': '3d_cascade_fullres'}\n",
      "\n",
      "3D fullres U-Net configuration:\n",
      "{'data_identifier': 'nnUNetPlans_3d_fullres', 'preprocessor_name': 'DefaultPreprocessor', 'batch_size': 2, 'patch_size': (128, 128, 128), 'median_image_size_in_voxels': array([256., 256., 256.]), 'spacing': array([0.5, 0.5, 0.5]), 'normalization_schemes': ['CTNormalization'], 'use_mask_for_norm': [False], 'resampling_fn_data': 'resample_data_or_seg_to_shape', 'resampling_fn_seg': 'resample_data_or_seg_to_shape', 'resampling_fn_data_kwargs': {'is_seg': False, 'order': 3, 'order_z': 0, 'force_separate_z': None}, 'resampling_fn_seg_kwargs': {'is_seg': True, 'order': 1, 'order_z': 0, 'force_separate_z': None}, 'resampling_fn_probabilities': 'resample_data_or_seg_to_shape', 'resampling_fn_probabilities_kwargs': {'is_seg': False, 'order': 1, 'order_z': 0, 'force_separate_z': None}, 'architecture': {'network_class_name': 'dynamic_network_architectures.architectures.unet.PlainConvUNet', 'arch_kwargs': {'n_stages': 6, 'features_per_stage': (32, 64, 128, 256, 320, 320), 'conv_op': 'torch.nn.modules.conv.Conv3d', 'kernel_sizes': ((3, 3, 3), (3, 3, 3), (3, 3, 3), (3, 3, 3), (3, 3, 3), (3, 3, 3)), 'strides': ((1, 1, 1), (2, 2, 2), (2, 2, 2), (2, 2, 2), (2, 2, 2), (2, 2, 2)), 'n_conv_per_stage': (2, 2, 2, 2, 2, 2), 'n_conv_per_stage_decoder': (2, 2, 2, 2, 2), 'conv_bias': True, 'norm_op': 'torch.nn.modules.instancenorm.InstanceNorm3d', 'norm_op_kwargs': {'eps': 1e-05, 'affine': True}, 'dropout_op': None, 'dropout_op_kwargs': None, 'nonlin': 'torch.nn.LeakyReLU', 'nonlin_kwargs': {'inplace': True}}, '_kw_requires_import': ('conv_op', 'norm_op', 'dropout_op', 'nonlin')}, 'batch_dice': True}\n",
      "\n",
      "Plans were saved to /home/jovyan/nnU-Net/nnUNet_preprocessed/Dataset500_augmented/nnUNetPlans.json\n",
      "Preprocessing...\n",
      "Preprocessing dataset Dataset500_augmented\n",
      "Configuration: 2d...\n",
      "100%|███████████████████████████████████████████| 32/32 [00:29<00:00,  1.09it/s]\n",
      "Configuration: 3d_fullres...\n",
      "100%|███████████████████████████████████████████| 32/32 [00:25<00:00,  1.28it/s]\n",
      "Configuration: 3d_lowres...\n",
      "100%|███████████████████████████████████████████| 32/32 [00:22<00:00,  1.40it/s]\n"
     ]
    }
   ],
   "source": [
    "#!/bin/bash\n",
    "export nnUNet_raw=\"/home/jovyan/nnU-Net/nnUNet_raw\"\n",
    "export nnUNet_preprocessed=\"/home/jovyan/nnU-Net/nnUNet_preprocessed\"\n",
    "export nnUNet_results=\"/home/jovyan/nnU-Net/nnUNet_results\"\n",
    "\n",
    "nnUNetv2_plan_and_preprocess -d 500 --verify_dataset_integrity -np 32"
   ]
  },
  {
   "cell_type": "markdown",
   "metadata": {},
   "source": [
    "In order to run various cells in parallel (because sometimes unexpected things just happen) the cells are converted to scripts to be run in the jupyter cluster terminal. Script x will be ran the following way:"
   ]
  },
  {
   "cell_type": "code",
   "execution_count": null,
   "metadata": {
    "vscode": {
     "languageId": "shellscript"
    }
   },
   "outputs": [],
   "source": [
    "# chmod +x x.sh\n",
    "# ./x.sh"
   ]
  },
  {
   "cell_type": "markdown",
   "metadata": {},
   "source": [
    "Additionally folds can be executed on multiple GPUs instead of single ones in paralel (this is especially handy as certain folds take longand this allows for optimizing cluster resources more). The scripts in teh training pipeline file will be presented as if they're running in parallel on single GPUs but the following example showcases how the multi GPU runs are exectued, which is dynamically applied throughout training."
   ]
  },
  {
   "cell_type": "code",
   "execution_count": null,
   "metadata": {
    "vscode": {
     "languageId": "shellscript"
    }
   },
   "outputs": [],
   "source": [
    "CUDA_VISIBLE_DEVICES=1,2 nnUNetv2_train -device \"cuda\" 300 {layer} {fold} -num_gpus 2 "
   ]
  },
  {
   "cell_type": "markdown",
   "metadata": {},
   "source": [
    "Additonally the session expires while training, luckily we can continue from the checkpoint using the ```--c``` flag. The shutdown of sessions is the main painpoint when training. As more supervision and dynamic (re)allocation is required. "
   ]
  },
  {
   "cell_type": "markdown",
   "metadata": {},
   "source": [
    "# Training 2d"
   ]
  },
  {
   "cell_type": "code",
   "execution_count": null,
   "metadata": {
    "vscode": {
     "languageId": "shellscript"
    }
   },
   "outputs": [],
   "source": [
    "#!/bin/bash\n",
    "\n",
    "export nnUNet_raw=\"/home/jovyan/nnU-Net/nnUNet_raw\"\n",
    "export nnUNet_preprocessed=\"/home/jovyan/nnU-Net/nnUNet_preprocessed\"\n",
    "export nnUNet_results=\"/home/jovyan/nnU-Net/nnUNet_results\"\n",
    "\n",
    "CUDA_VISIBLE_DEVICES=1 nnUNetv2_train -device \"cuda\" 300 2d 0 & \n",
    "sleep 120\n",
    "CUDA_VISIBLE_DEVICES=2 nnUNetv2_train -device \"cuda\" 300 2d 1 & \n",
    "sleep 120\n",
    "CUDA_VISIBLE_DEVICES=3 nnUNetv2_train -device \"cuda\" 300 2d 2 & \n",
    "sleep 120\n",
    "CUDA_VISIBLE_DEVICES=4 nnUNetv2_train -device \"cuda\" 300 2d 3 & \n",
    "sleep 120\n",
    "CUDA_VISIBLE_DEVICES=5 nnUNetv2_train -device \"cuda\" 300 2d 4 & \n",
    "sleep 120\n",
    "wait"
   ]
  },
  {
   "cell_type": "markdown",
   "metadata": {},
   "source": [
    "# Training 3d_low_res"
   ]
  },
  {
   "cell_type": "code",
   "execution_count": null,
   "metadata": {
    "vscode": {
     "languageId": "shellscript"
    }
   },
   "outputs": [],
   "source": [
    "#!/bin/bash\n",
    "\n",
    "export nnUNet_raw=\"/home/jovyan/nnU-Net/nnUNet_raw\"\n",
    "export nnUNet_preprocessed=\"/home/jovyan/nnU-Net/nnUNet_preprocessed\"\n",
    "export nnUNet_results=\"/home/jovyan/nnU-Net/nnUNet_results\"\n",
    "\n",
    "CUDA_VISIBLE_DEVICES=1 nnUNetv2_train -device \"cuda\" 300 3d_lowres 0 &\n",
    "sleep 120\n",
    "CUDA_VISIBLE_DEVICES=2 nnUNetv2_train -device \"cuda\" 300 3d_lowres 1 &\n",
    "sleep 120\n",
    "CUDA_VISIBLE_DEVICES=3 nnUNetv2_train -device \"cuda\" 300 3d_lowres 2 & \n",
    "sleep 120\n",
    "CUDA_VISIBLE_DEVICES=4 nnUNetv2_train -device \"cuda\" 300 3d_lowres 3 & \n",
    "sleep 120\n",
    "CUDA_VISIBLE_DEVICES=5 nnUNetv2_train -device \"cuda\" 300 3d_lowres 4 & \n",
    "sleep 120\n",
    "wait"
   ]
  },
  {
   "cell_type": "markdown",
   "metadata": {},
   "source": [
    "# Training 3d_full_res"
   ]
  },
  {
   "cell_type": "code",
   "execution_count": null,
   "metadata": {
    "vscode": {
     "languageId": "shellscript"
    }
   },
   "outputs": [],
   "source": [
    "#!/bin/bash\n",
    "\n",
    "export nnUNet_raw=\"/home/jovyan/nnU-Net/nnUNet_raw\"\n",
    "export nnUNet_preprocessed=\"/home/jovyan/nnU-Net/nnUNet_preprocessed\"\n",
    "export nnUNet_results=\"/home/jovyan/nnU-Net/nnUNet_results\"\n",
    "\n",
    "CUDA_VISIBLE_DEVICES=1 nnUNetv2_train -device \"cuda\" 300 3d_fullres 0 & \n",
    "sleep 120\n",
    "CUDA_VISIBLE_DEVICES=2 nnUNetv2_train -device \"cuda\" 300 3d_fullres 1 & \n",
    "sleep 120\n",
    "CUDA_VISIBLE_DEVICES=3 nnUNetv2_train -device \"cuda\" 300 3d_fullres 2 & \n",
    "sleep 120\n",
    "CUDA_VISIBLE_DEVICES=4 nnUNetv2_train -device \"cuda\" 300 3d_fullres 3 & \n",
    "sleep 120\n",
    "CUDA_VISIBLE_DEVICES=5 nnUNetv2_train -device \"cuda\" 300 3d_fullres 4 & \n",
    "sleep 120\n",
    "wait"
   ]
  },
  {
   "cell_type": "markdown",
   "metadata": {},
   "source": [
    "# 3d_cascade_fullres"
   ]
  },
  {
   "cell_type": "code",
   "execution_count": null,
   "metadata": {
    "vscode": {
     "languageId": "shellscript"
    }
   },
   "outputs": [],
   "source": [
    "#!/bin/bash\n",
    "\n",
    "export nnUNet_raw=\"/home/jovyan/nnU-Net/nnUNet_raw\"\n",
    "export nnUNet_preprocessed=\"/home/jovyan/nnU-Net/nnUNet_preprocessed\"\n",
    "export nnUNet_results=\"/home/jovyan/nnU-Net/nnUNet_results\"\n",
    "\n",
    "CUDA_VISIBLE_DEVICES=1 nnUNetv2_train -device \"cuda\" 300 3d_cascade_fullres 0 & \n",
    "sleep 120\n",
    "CUDA_VISIBLE_DEVICES=2 nnUNetv2_train -device \"cuda\" 300 3d_cascade_fullres 1 & \n",
    "sleep 120\n",
    "CUDA_VISIBLE_DEVICES=3 nnUNetv2_train -device \"cuda\" 300 3d_cascade_fullres 2 & \n",
    "sleep 120\n",
    "CUDA_VISIBLE_DEVICES=4 nnUNetv2_train -device \"cuda\" 300 3d_cascade_fullres 3 & \n",
    "sleep 120\n",
    "CUDA_VISIBLE_DEVICES=5 nnUNetv2_train -device \"cuda\" 300 3d_cascade_fullres 4 & \n",
    "sleep 120\n",
    "wait"
   ]
  },
  {
   "cell_type": "markdown",
   "metadata": {},
   "source": [
    "# Predictions Test"
   ]
  },
  {
   "cell_type": "markdown",
   "metadata": {},
   "source": [
    "Inference on the regular test set"
   ]
  },
  {
   "cell_type": "code",
   "execution_count": null,
   "metadata": {
    "vscode": {
     "languageId": "shellscript"
    }
   },
   "outputs": [],
   "source": [
    "#!/bin/bash\n",
    "\n",
    "export nnUNet_raw=\"/home/jovyan/nnU-Net/nnUNet_raw\"\n",
    "export nnUNet_preprocessed=\"/home/jovyan/nnU-Net/nnUNet_preprocessed\"\n",
    "export nnUNet_results=\"/home/jovyan/nnU-Net/nnUNet_results\"\n",
    "\n",
    "CUDA_VISIBLE_DEVICES=1 nnUNetv2_predict -i /home/jovyan/nnU-Net/nnUNet_raw/Dataset300_combined/imagesTs -o /home/jovyan/nnU-Net/nnUNet_results/Dataset300_combined/inference/test/3d_fullres -d 300 -f  0 1 2 3 4 -tr nnUNetTrainer -c 3d_fullres -p nnUNetPlans --save_probabilities -part_id 0 -num_parts 3 -device \"cuda\"&\n",
    "CUDA_VISIBLE_DEVICES=2 nnUNetv2_predict -i /home/jovyan/nnU-Net/nnUNet_raw/Dataset300_combined/imagesTs -o /home/jovyan/nnU-Net/nnUNet_results/Dataset300_combined/inference/test/3d_fullres -d 300 -f  0 1 2 3 4 -tr nnUNetTrainer -c 3d_fullres -p nnUNetPlans --save_probabilities -part_id 1 -num_parts 3 -device \"cuda\"&\n",
    "CUDA_VISIBLE_DEVICES=3 nnUNetv2_predict -i /home/jovyan/nnU-Net/nnUNet_raw/Dataset300_combined/imagesTs -o /home/jovyan/nnU-Net/nnUNet_results/Dataset300_combined/inference/test/3d_fullres -d 300 -f  0 1 2 3 4 -tr nnUNetTrainer -c 3d_fullres -p nnUNetPlans --save_probabilities -part_id 2 -num_parts 3 -device \"cuda\"&\n",
    "CUDA_VISIBLE_DEVICES=4 nnUNetv2_predict -i /home/jovyan/nnU-Net/nnUNet_raw/Dataset300_combined/imagesTs -o /home/jovyan/nnU-Net/nnUNet_results/Dataset300_combined/inference/test/3d_lowres -d 300 -f  0 1 2 3 4 -tr nnUNetTrainer -c 3d_lowres -p nnUNetPlans --save_probabilities -part_id 0 -num_parts 3 -device \"cuda\"&\n",
    "CUDA_VISIBLE_DEVICES=5 nnUNetv2_predict -i /home/jovyan/nnU-Net/nnUNet_raw/Dataset300_combined/imagesTs -o /home/jovyan/nnU-Net/nnUNet_results/Dataset300_combined/inference/test/3d_lowres -d 300 -f  0 1 2 3 4 -tr nnUNetTrainer -c 3d_lowres -p nnUNetPlans --save_probabilities -part_id 1 -num_parts 3 -device \"cuda\"&\n",
    "CUDA_VISIBLE_DEVICES=6 nnUNetv2_predict -i /home/jovyan/nnU-Net/nnUNet_raw/Dataset300_combined/imagesTs -o /home/jovyan/nnU-Net/nnUNet_results/Dataset300_combined/inference/test/3d_lowres -d 300 -f  0 1 2 3 4 -tr nnUNetTrainer -c 3d_lowres -p nnUNetPlans --save_probabilities -part_id 2 -num_parts 3 -device \"cuda\"&\n",
    "CUDA_VISIBLE_DEVICES=7 nnUNetv2_predict -i /home/jovyan/nnU-Net/nnUNet_raw/Dataset300_combined/imagesTs -o /home/jovyan/nnU-Net/nnUNet_results/Dataset300_combined/inference/test/2d -d 300 -f  0 1 2 3 4 -tr nnUNetTrainer -c 2d -p nnUNetPlans --save_probabilities -device \"cuda\"&\n",
    "wait\n",
    "CUDA_VISIBLE_DEVICES=1 nnUNetv2_predict -i /home/jovyan/nnU-Net/nnUNet_raw/Dataset300_combined/imagesTs -o /home/jovyan/nnU-Net/nnUNet_results/Dataset300_combined/inference/test/3d_cascade_fullres -d 300 -f  0 1 2 3 4 -prev_stage_predictions /home/jovyan/nnU-Net/nnUNet_results/Dataset300_combined/inference/test/3d_lowres -tr nnUNetTrainer -c 3d_cascade_fullres -p nnUNetPlans --save_probabilities -part_id 0 -num_parts 7 -device \"cuda\" &\n",
    "CUDA_VISIBLE_DEVICES=2 nnUNetv2_predict -i /home/jovyan/nnU-Net/nnUNet_raw/Dataset300_combined/imagesTs -o /home/jovyan/nnU-Net/nnUNet_results/Dataset300_combined/inference/test/3d_cascade_fullres -d 300 -f  0 1 2 3 4 -prev_stage_predictions /home/jovyan/nnU-Net/nnUNet_results/Dataset300_combined/inference/test/3d_lowres -tr nnUNetTrainer -c 3d_cascade_fullres -p nnUNetPlans --save_probabilities -part_id 1 -num_parts 7 -device \"cuda\" &\n",
    "CUDA_VISIBLE_DEVICES=3 nnUNetv2_predict -i /home/jovyan/nnU-Net/nnUNet_raw/Dataset300_combined/imagesTs -o /home/jovyan/nnU-Net/nnUNet_results/Dataset300_combined/inference/test/3d_cascade_fullres -d 300 -f  0 1 2 3 4 -prev_stage_predictions /home/jovyan/nnU-Net/nnUNet_results/Dataset300_combined/inference/test/3d_lowres -tr nnUNetTrainer -c 3d_cascade_fullres -p nnUNetPlans --save_probabilities -part_id 2 -num_parts 7 -device \"cuda\" &\n",
    "CUDA_VISIBLE_DEVICES=4 nnUNetv2_predict -i /home/jovyan/nnU-Net/nnUNet_raw/Dataset300_combined/imagesTs -o /home/jovyan/nnU-Net/nnUNet_results/Dataset300_combined/inference/test/3d_cascade_fullres -d 300 -f  0 1 2 3 4 -prev_stage_predictions /home/jovyan/nnU-Net/nnUNet_results/Dataset300_combined/inference/test/3d_lowres -tr nnUNetTrainer -c 3d_cascade_fullres -p nnUNetPlans --save_probabilities -part_id 3 -num_parts 7 -device \"cuda\" &\n",
    "CUDA_VISIBLE_DEVICES=5 nnUNetv2_predict -i /home/jovyan/nnU-Net/nnUNet_raw/Dataset300_combined/imagesTs -o /home/jovyan/nnU-Net/nnUNet_results/Dataset300_combined/inference/test/3d_cascade_fullres -d 300 -f  0 1 2 3 4 -prev_stage_predictions /home/jovyan/nnU-Net/nnUNet_results/Dataset300_combined/inference/test/3d_lowres -tr nnUNetTrainer -c 3d_cascade_fullres -p nnUNetPlans --save_probabilities -part_id 4 -num_parts 7 -device \"cuda\" &\n",
    "CUDA_VISIBLE_DEVICES=6 nnUNetv2_predict -i /home/jovyan/nnU-Net/nnUNet_raw/Dataset300_combined/imagesTs -o /home/jovyan/nnU-Net/nnUNet_results/Dataset300_combined/inference/test/3d_cascade_fullres -d 300 -f  0 1 2 3 4 -prev_stage_predictions /home/jovyan/nnU-Net/nnUNet_results/Dataset300_combined/inference/test/3d_lowres -tr nnUNetTrainer -c 3d_cascade_fullres -p nnUNetPlans --save_probabilities -part_id 5 -num_parts 7 -device \"cuda\" &\n",
    "CUDA_VISIBLE_DEVICES=7 nnUNetv2_predict -i /home/jovyan/nnU-Net/nnUNet_raw/Dataset300_combined/imagesTs -o /home/jovyan/nnU-Net/nnUNet_results/Dataset300_combined/inference/test/3d_cascade_fullres -d 300 -f  0 1 2 3 4 -prev_stage_predictions /home/jovyan/nnU-Net/nnUNet_results/Dataset300_combined/inference/test/3d_lowres -tr nnUNetTrainer -c 3d_cascade_fullres -p nnUNetPlans --save_probabilities -part_id 6 -num_parts 7 -device \"cuda\" &\n",
    "\n",
    "wait\n",
    "CUDA_VISIBLE_DEVICES=1 nnUNetv2_ensemble -i /home/jovyan/nnU-Net/nnUNet_results/Dataset300_combined/inference/test/2d /home/jovyan/nnU-Net/nnUNet_results/Dataset300_combined/inference/test/3d_fullres /home/jovyan/nnU-Net/nnUNet_results/Dataset300_combined/inference/test/3d_lowres -o /home/jovyan/nnU-Net/nnUNet_results/Dataset300_combined/inference/test/ensemble -np 36 --save_npz "
   ]
  },
  {
   "cell_type": "markdown",
   "metadata": {},
   "source": [
    "## Evaluation"
   ]
  },
  {
   "cell_type": "code",
   "execution_count": null,
   "metadata": {
    "vscode": {
     "languageId": "shellscript"
    }
   },
   "outputs": [],
   "source": [
    "#!/bin/bash\n",
    "\n",
    "export nnUNet_raw=\"/home/jovyan/nnU-Net/nnUNet_raw\"\n",
    "export nnUNet_preprocessed=\"/home/jovyan/nnU-Net/nnUNet_preprocessed\"\n",
    "export nnUNet_results=\"/home/jovyan/nnU-Net/nnUNet_results\"\n",
    "\n",
    "nnUNetv2_evaluate_folder -djfile /home/jovyan/nnU-Net/nnUNet_results/Dataset300_combined/inference/test/ensemble/dataset.json \\\n",
    "                         -pfile /home/jovyan/nnU-Net/nnUNet_results/Dataset300_combined/nnUNetTrainer__nnUNetPlans__3d_fullres/plans.json \\\n",
    "                         /home/jovyan/nnU-Net/nnUNet_raw/Dataset300_combined/labelsTs \\\n",
    "                         /home/jovyan/nnU-Net/nnUNet_results/Dataset300_combined/inference/test/ensemble\n",
    "wait"
   ]
  },
  {
   "cell_type": "markdown",
   "metadata": {},
   "source": [
    "Replace imagesTs with images from the super secret set to run inference on the super secret set. "
   ]
  },
  {
   "cell_type": "code",
   "execution_count": null,
   "metadata": {
    "vscode": {
     "languageId": "shellscript"
    }
   },
   "outputs": [],
   "source": [
    "#!/bin/bash\n",
    "\n",
    "export nnUNet_raw=\"/home/jovyan/nnU-Net/nnUNet_raw\"\n",
    "export nnUNet_preprocessed=\"/home/jovyan/nnU-Net/nnUNet_preprocessed\"\n",
    "export nnUNet_results=\"/home/jovyan/nnU-Net/nnUNet_results\"\n",
    "\n",
    "CUDA_VISIBLE_DEVICES=1 nnUNetv2_predict -i /home/jovyan/nnU-Net/nnUNet_raw/Dataset300_combined/imagesTs -o /home/jovyan/nnU-Net/nnUNet_results/Dataset400_supersecret/inference/test/3d_fullres -d 300 -f  0 1 2 3 4 -tr nnUNetTrainer -c 3d_fullres -p nnUNetPlans --save_probabilities -part_id 0 -num_parts 3 -device \"cuda\"&\n",
    "CUDA_VISIBLE_DEVICES=2 nnUNetv2_predict -i /home/jovyan/nnU-Net/nnUNet_raw/Dataset300_combined/imagesTs -o /home/jovyan/nnU-Net/nnUNet_results/Dataset400_supersecret/inference/test/3d_fullres -d 300 -f  0 1 2 3 4 -tr nnUNetTrainer -c 3d_fullres -p nnUNetPlans --save_probabilities -part_id 1 -num_parts 3 -device \"cuda\"&\n",
    "CUDA_VISIBLE_DEVICES=3 nnUNetv2_predict -i /home/jovyan/nnU-Net/nnUNet_raw/Dataset300_combined/imagesTs -o /home/jovyan/nnU-Net/nnUNet_results/Dataset400_supersecret/inference/test/3d_fullres -d 300 -f  0 1 2 3 4 -tr nnUNetTrainer -c 3d_fullres -p nnUNetPlans --save_probabilities -part_id 2 -num_parts 3 -device \"cuda\"&\n",
    "CUDA_VISIBLE_DEVICES=4 nnUNetv2_predict -i /home/jovyan/nnU-Net/nnUNet_raw/Dataset300_combined/imagesTs -o /home/jovyan/nnU-Net/nnUNet_results/Dataset400_supersecret/inference/test/3d_lowres -d 300 -f  0 1 2 3 4 -tr nnUNetTrainer -c 3d_lowres -p nnUNetPlans --save_probabilities -part_id 0 -num_parts 3 -device \"cuda\"&\n",
    "CUDA_VISIBLE_DEVICES=5 nnUNetv2_predict -i /home/jovyan/nnU-Net/nnUNet_raw/Dataset300_combined/imagesTs -o /home/jovyan/nnU-Net/nnUNet_results/Dataset400_supersecret/inference/test/3d_lowres -d 300 -f  0 1 2 3 4 -tr nnUNetTrainer -c 3d_lowres -p nnUNetPlans --save_probabilities -part_id 1 -num_parts 3 -device \"cuda\"&\n",
    "CUDA_VISIBLE_DEVICES=6 nnUNetv2_predict -i /home/jovyan/nnU-Net/nnUNet_raw/Dataset300_combined/imagesTs -o /home/jovyan/nnU-Net/nnUNet_results/Dataset400_supersecret/inference/test/3d_lowres -d 300 -f  0 1 2 3 4 -tr nnUNetTrainer -c 3d_lowres -p nnUNetPlans --save_probabilities -part_id 2 -num_parts 3 -device \"cuda\"&\n",
    "CUDA_VISIBLE_DEVICES=7 nnUNetv2_predict -i /home/jovyan/nnU-Net/nnUNet_raw/Dataset300_combined/imagesTs -o /home/jovyan/nnU-Net/nnUNet_results/Dataset400_supersecret/inference/test/2d -d 300 -f  0 1 2 3 4 -tr nnUNetTrainer -c 2d -p nnUNetPlans --save_probabilities -device \"cuda\"&\n",
    "wait\n",
    "CUDA_VISIBLE_DEVICES=1 nnUNetv2_predict -i /home/jovyan/nnU-Net/nnUNet_raw/Dataset300_combined/imagesTs -o /home/jovyan/nnU-Net/nnUNet_results/Dataset400_supersecret/inference/test/3d_cascade_fullres -d 300 -f  0 1 2 3 4 -prev_stage_predictions /home/jovyan/nnU-Net/nnUNet_results/Dataset400_supersecret/inference/test/3d_lowres -tr nnUNetTrainer -c 3d_cascade_fullres -p nnUNetPlans --save_probabilities -part_id 0 -num_parts 7 -device \"cuda\" &\n",
    "CUDA_VISIBLE_DEVICES=2 nnUNetv2_predict -i /home/jovyan/nnU-Net/nnUNet_raw/Dataset300_combined/imagesTs -o /home/jovyan/nnU-Net/nnUNet_results/Dataset400_supersecret/inference/test/3d_cascade_fullres -d 300 -f  0 1 2 3 4 -prev_stage_predictions /home/jovyan/nnU-Net/nnUNet_results/Dataset400_supersecret/inference/test/3d_lowres -tr nnUNetTrainer -c 3d_cascade_fullres -p nnUNetPlans --save_probabilities -part_id 1 -num_parts 7 -device \"cuda\" &\n",
    "CUDA_VISIBLE_DEVICES=3 nnUNetv2_predict -i /home/jovyan/nnU-Net/nnUNet_raw/Dataset300_combined/imagesTs -o /home/jovyan/nnU-Net/nnUNet_results/Dataset400_supersecret/inference/test/3d_cascade_fullres -d 300 -f  0 1 2 3 4 -prev_stage_predictions /home/jovyan/nnU-Net/nnUNet_results/Dataset400_supersecret/inference/test/3d_lowres -tr nnUNetTrainer -c 3d_cascade_fullres -p nnUNetPlans --save_probabilities -part_id 2 -num_parts 7 -device \"cuda\" &\n",
    "CUDA_VISIBLE_DEVICES=4 nnUNetv2_predict -i /home/jovyan/nnU-Net/nnUNet_raw/Dataset300_combined/imagesTs -o /home/jovyan/nnU-Net/nnUNet_results/Dataset400_supersecret/inference/test/3d_cascade_fullres -d 300 -f  0 1 2 3 4 -prev_stage_predictions /home/jovyan/nnU-Net/nnUNet_results/Dataset400_supersecret/inference/test/3d_lowres -tr nnUNetTrainer -c 3d_cascade_fullres -p nnUNetPlans --save_probabilities -part_id 3 -num_parts 7 -device \"cuda\" &\n",
    "CUDA_VISIBLE_DEVICES=5 nnUNetv2_predict -i /home/jovyan/nnU-Net/nnUNet_raw/Dataset300_combined/imagesTs -o /home/jovyan/nnU-Net/nnUNet_results/Dataset400_supersecret/inference/test/3d_cascade_fullres -d 300 -f  0 1 2 3 4 -prev_stage_predictions /home/jovyan/nnU-Net/nnUNet_results/Dataset400_supersecret/inference/test/3d_lowres -tr nnUNetTrainer -c 3d_cascade_fullres -p nnUNetPlans --save_probabilities -part_id 4 -num_parts 7 -device \"cuda\" &\n",
    "CUDA_VISIBLE_DEVICES=6 nnUNetv2_predict -i /home/jovyan/nnU-Net/nnUNet_raw/Dataset300_combined/imagesTs -o /home/jovyan/nnU-Net/nnUNet_results/Dataset400_supersecret/inference/test/3d_cascade_fullres -d 300 -f  0 1 2 3 4 -prev_stage_predictions /home/jovyan/nnU-Net/nnUNet_results/Dataset400_supersecret/inference/test/3d_lowres -tr nnUNetTrainer -c 3d_cascade_fullres -p nnUNetPlans --save_probabilities -part_id 5 -num_parts 7 -device \"cuda\" &\n",
    "CUDA_VISIBLE_DEVICES=7 nnUNetv2_predict -i /home/jovyan/nnU-Net/nnUNet_raw/Dataset300_combined/imagesTs -o /home/jovyan/nnU-Net/nnUNet_results/Dataset400_supersecret/inference/test/3d_cascade_fullres -d 300 -f  0 1 2 3 4 -prev_stage_predictions /home/jovyan/nnU-Net/nnUNet_results/Dataset400_supersecret/inference/test/3d_lowres -tr nnUNetTrainer -c 3d_cascade_fullres -p nnUNetPlans --save_probabilities -part_id 6 -num_parts 7 -device \"cuda\" &\n",
    "\n",
    "wait\n",
    "CUDA_VISIBLE_DEVICES=1 nnUNetv2_ensemble -i /home/jovyan/nnU-Net/nnUNet_results/Dataset400_supersecret/inference/test/2d /home/jovyan/nnU-Net/nnUNet_results/Dataset400_supersecret/inference/test/3d_fullres /home/jovyan/nnU-Net/nnUNet_results/Dataset400_supersecret/inference/test/3d_lowres -o /home/jovyan/nnU-Net/nnUNet_results/Dataset400_supersecret/inference/test/ensemble -np 36 --save_npz \n",
    "wait"
   ]
  }
 ],
 "metadata": {
  "kernelspec": {
   "display_name": "Bash",
   "language": "bash",
   "name": "bash"
  },
  "language_info": {
   "codemirror_mode": "shell",
   "file_extension": ".sh",
   "mimetype": "text/x-sh",
   "name": "bash"
  }
 },
 "nbformat": 4,
 "nbformat_minor": 2
}
