{
 "cells": [
  {
   "cell_type": "markdown",
   "metadata": {},
   "source": [
    "Editing the number of epochs"
   ]
  },
  {
   "cell_type": "code",
   "execution_count": null,
   "metadata": {
    "vscode": {
     "languageId": "shellscript"
    }
   },
   "outputs": [],
   "source": [
    "# recomend to run in the native terminal instead \n",
    "cat /home/jovyan/.local/lib/python3.10/site-packages/nnunetv2/training/nnUNetTrainer/nnUNetTrainer.py\n",
    "#nano /home/jovyan/.local/lib/python3.10/site-packages/nnunetv2/training/nnUNetTrainer/nnUNetTrainer.py"
   ]
  },
  {
   "cell_type": "markdown",
   "metadata": {},
   "source": [
    "# Preprocessing"
   ]
  },
  {
   "cell_type": "code",
   "execution_count": null,
   "metadata": {
    "vscode": {
     "languageId": "shellscript"
    }
   },
   "outputs": [],
   "source": [
    "nnUNetv2_plan_and_preprocess -d 300 --verify_dataset_integrity -np 32"
   ]
  },
  {
   "cell_type": "markdown",
   "metadata": {},
   "source": [
    "In order to run various cells in parallel the cells are converted to scripts to be run in the jupyter cluster terminal. Script x will be ran the following way:"
   ]
  },
  {
   "cell_type": "code",
   "execution_count": null,
   "metadata": {
    "vscode": {
     "languageId": "shellscript"
    }
   },
   "outputs": [],
   "source": [
    "# chmod +x x.sh\n",
    "# ./x.sh"
   ]
  },
  {
   "cell_type": "markdown",
   "metadata": {},
   "source": [
    "Additionally folds can be executed on multiple GPUs instead of single ones in paralel (this is especially handy as certain folds take longand this allows for optimizing cluster resources more). The scripts in teh training pipeline file will be presented as if they're running in parallel on single GPUs but the following example showcases how the multi GPU runs are exectued, which is dynamically applied throughout training."
   ]
  },
  {
   "cell_type": "code",
   "execution_count": null,
   "metadata": {
    "vscode": {
     "languageId": "shellscript"
    }
   },
   "outputs": [],
   "source": [
    "CUDA_VISIBLE_DEVICES=1,2 nnUNetv2_train -device \"cuda\" 300 {layer} {fold} -num_gpus 2& "
   ]
  },
  {
   "cell_type": "markdown",
   "metadata": {},
   "source": [
    "Additonally the session expires while training, luckily we can continue from the checkpoint using the ```--c``` flag. The shutdown of sessions is the main painpoint when training. As more supervision and dynamic (re)allocation is required. "
   ]
  },
  {
   "cell_type": "markdown",
   "metadata": {},
   "source": [
    "# Training 2d"
   ]
  },
  {
   "cell_type": "code",
   "execution_count": null,
   "metadata": {
    "vscode": {
     "languageId": "shellscript"
    }
   },
   "outputs": [],
   "source": [
    "#!/bin/bash\n",
    "\n",
    "export nnUNet_raw=\"/home/jovyan/nnU-Net/nnUNet_raw\"\n",
    "export nnUNet_preprocessed=\"/home/jovyan/nnU-Net/nnUNet_preprocessed\"\n",
    "export nnUNet_results=\"/home/jovyan/nnU-Net/nnUNet_results\"\n",
    "\n",
    "CUDA_VISIBLE_DEVICES=1 nnUNetv2_train -device \"cuda\" 300 2d 0 & \n",
    "sleep 120\n",
    "CUDA_VISIBLE_DEVICES=2 nnUNetv2_train -device \"cuda\" 300 2d 1 & \n",
    "sleep 120\n",
    "CUDA_VISIBLE_DEVICES=3 nnUNetv2_train -device \"cuda\" 300 2d 2 & \n",
    "sleep 120\n",
    "CUDA_VISIBLE_DEVICES=4 nnUNetv2_train -device \"cuda\" 300 2d 3 & \n",
    "sleep 120\n",
    "CUDA_VISIBLE_DEVICES=5 nnUNetv2_train -device \"cuda\" 300 2d 4 & \n",
    "sleep 120\n",
    "wait"
   ]
  },
  {
   "cell_type": "markdown",
   "metadata": {},
   "source": [
    "# Training 3d_low_res"
   ]
  },
  {
   "cell_type": "code",
   "execution_count": null,
   "metadata": {
    "vscode": {
     "languageId": "shellscript"
    }
   },
   "outputs": [],
   "source": [
    "#!/bin/bash\n",
    "\n",
    "export nnUNet_raw=\"/home/jovyan/nnU-Net/nnUNet_raw\"\n",
    "export nnUNet_preprocessed=\"/home/jovyan/nnU-Net/nnUNet_preprocessed\"\n",
    "export nnUNet_results=\"/home/jovyan/nnU-Net/nnUNet_results\"\n",
    "\n",
    "CUDA_VISIBLE_DEVICES=1 nnUNetv2_train -device \"cuda\" 300 3d_lowres 0 &\n",
    "sleep 120\n",
    "CUDA_VISIBLE_DEVICES=2 nnUNetv2_train -device \"cuda\" 300 3d_lowres 1 &\n",
    "sleep 120\n",
    "CUDA_VISIBLE_DEVICES=3 nnUNetv2_train -device \"cuda\" 300 3d_lowres 2 & \n",
    "sleep 120\n",
    "CUDA_VISIBLE_DEVICES=4 nnUNetv2_train -device \"cuda\" 300 3d_lowres 3 & \n",
    "sleep 120\n",
    "CUDA_VISIBLE_DEVICES=5 nnUNetv2_train -device \"cuda\" 300 3d_lowres 4 & \n",
    "sleep 120\n",
    "wait"
   ]
  },
  {
   "cell_type": "markdown",
   "metadata": {},
   "source": [
    "# Training 3d_full_res"
   ]
  },
  {
   "cell_type": "code",
   "execution_count": null,
   "metadata": {
    "vscode": {
     "languageId": "shellscript"
    }
   },
   "outputs": [],
   "source": [
    "#!/bin/bash\n",
    "\n",
    "export nnUNet_raw=\"/home/jovyan/nnU-Net/nnUNet_raw\"\n",
    "export nnUNet_preprocessed=\"/home/jovyan/nnU-Net/nnUNet_preprocessed\"\n",
    "export nnUNet_results=\"/home/jovyan/nnU-Net/nnUNet_results\"\n",
    "\n",
    "CUDA_VISIBLE_DEVICES=1 nnUNetv2_train -device \"cuda\" 300 3d_fullres 0 & \n",
    "sleep 120\n",
    "CUDA_VISIBLE_DEVICES=2 nnUNetv2_train -device \"cuda\" 300 3d_fullres 1 & \n",
    "sleep 120\n",
    "CUDA_VISIBLE_DEVICES=3 nnUNetv2_train -device \"cuda\" 300 3d_fullres 2 & \n",
    "sleep 120\n",
    "CUDA_VISIBLE_DEVICES=4 nnUNetv2_train -device \"cuda\" 300 3d_fullres 3 & \n",
    "sleep 120\n",
    "CUDA_VISIBLE_DEVICES=5 nnUNetv2_train -device \"cuda\" 300 3d_fullres 4 & \n",
    "sleep 120\n",
    "wait"
   ]
  },
  {
   "cell_type": "markdown",
   "metadata": {},
   "source": [
    "# 3d_cascade_fullres"
   ]
  },
  {
   "cell_type": "code",
   "execution_count": null,
   "metadata": {
    "vscode": {
     "languageId": "shellscript"
    }
   },
   "outputs": [],
   "source": [
    "#!/bin/bash\n",
    "\n",
    "export nnUNet_raw=\"/home/jovyan/nnU-Net/nnUNet_raw\"\n",
    "export nnUNet_preprocessed=\"/home/jovyan/nnU-Net/nnUNet_preprocessed\"\n",
    "export nnUNet_results=\"/home/jovyan/nnU-Net/nnUNet_results\"\n",
    "\n",
    "CUDA_VISIBLE_DEVICES=1 nnUNetv2_train -device \"cuda\" 300 3d_cascade_fullres 0 & \n",
    "sleep 120\n",
    "CUDA_VISIBLE_DEVICES=2 nnUNetv2_train -device \"cuda\" 300 3d_cascade_fullres 1 & \n",
    "sleep 120\n",
    "CUDA_VISIBLE_DEVICES=3 nnUNetv2_train -device \"cuda\" 300 3d_cascade_fullres 2 & \n",
    "sleep 120\n",
    "CUDA_VISIBLE_DEVICES=4 nnUNetv2_train -device \"cuda\" 300 3d_cascade_fullres 3 & \n",
    "sleep 120\n",
    "CUDA_VISIBLE_DEVICES=5 nnUNetv2_train -device \"cuda\" 300 3d_cascade_fullres 4 & \n",
    "sleep 120\n",
    "wait"
   ]
  },
  {
   "cell_type": "markdown",
   "metadata": {},
   "source": [
    "# Predictions Test"
   ]
  },
  {
   "cell_type": "markdown",
   "metadata": {},
   "source": [
    "Inference on the regular test set"
   ]
  },
  {
   "cell_type": "code",
   "execution_count": null,
   "metadata": {
    "vscode": {
     "languageId": "shellscript"
    }
   },
   "outputs": [],
   "source": [
    "#!/bin/bash\n",
    "\n",
    "export nnUNet_raw=\"/home/jovyan/nnU-Net/nnUNet_raw\"\n",
    "export nnUNet_preprocessed=\"/home/jovyan/nnU-Net/nnUNet_preprocessed\"\n",
    "export nnUNet_results=\"/home/jovyan/nnU-Net/nnUNet_results\"\n",
    "\n",
    "CUDA_VISIBLE_DEVICES=1 nnUNetv2_predict -i /home/jovyan/nnU-Net/nnUNet_raw/Dataset300_combined/imagesTs -o /home/jovyan/nnU-Net/nnUNet_results/Dataset300_combined/inference/test/3d_fullres -d 300 -f  0 1 2 3 4 -tr nnUNetTrainer -c 3d_fullres -p nnUNetPlans --save_probabilities -part_id 0 -num_parts 3 -device \"cuda\"&\n",
    "CUDA_VISIBLE_DEVICES=2 nnUNetv2_predict -i /home/jovyan/nnU-Net/nnUNet_raw/Dataset300_combined/imagesTs -o /home/jovyan/nnU-Net/nnUNet_results/Dataset300_combined/inference/test/3d_fullres -d 300 -f  0 1 2 3 4 -tr nnUNetTrainer -c 3d_fullres -p nnUNetPlans --save_probabilities -part_id 2 -num_parts 3 -device \"cuda\"&\n",
    "CUDA_VISIBLE_DEVICES=4 nnUNetv2_predict -i /home/jovyan/nnU-Net/nnUNet_raw/Dataset300_combined/imagesTs -o /home/jovyan/nnU-Net/nnUNet_results/Dataset300_combined/inference/test/3d_lowres -d 300 -f  0 1 2 3 4 -tr nnUNetTrainer -c 3d_lowres -p nnUNetPlans --save_probabilities -part_id 0 -num_parts 3 -device \"cuda\"&\n",
    "CUDA_VISIBLE_DEVICES=5 nnUNetv2_predict -i /home/jovyan/nnU-Net/nnUNet_raw/Dataset300_combined/imagesTs -o /home/jovyan/nnU-Net/nnUNet_results/Dataset300_combined/inference/test/3d_lowres -d 300 -f  0 1 2 3 4 -tr nnUNetTrainer -c 3d_lowres -p nnUNetPlans --save_probabilities -part_id 1 -num_parts 3 -device \"cuda\"&\n",
    "CUDA_VISIBLE_DEVICES=6 nnUNetv2_predict -i /home/jovyan/nnU-Net/nnUNet_raw/Dataset300_combined/imagesTs -o /home/jovyan/nnU-Net/nnUNet_results/Dataset300_combined/inference/test/3d_lowres -d 300 -f  0 1 2 3 4 -tr nnUNetTrainer -c 3d_lowres -p nnUNetPlans --save_probabilities -part_id 2 -num_parts 3 -device \"cuda\"&\n",
    "CUDA_VISIBLE_DEVICES=7 nnUNetv2_predict -i /home/jovyan/nnU-Net/nnUNet_raw/Dataset300_combined/imagesTs -o /home/jovyan/nnU-Net/nnUNet_results/Dataset300_combined/inference/test/2d -d 300 -f  0 1 2 3 4 -tr nnUNetTrainer -c 2d -p nnUNetPlans --save_probabilities -device \"cuda\"&\n",
    "wait\n",
    "CUDA_VISIBLE_DEVICES=1 nnUNetv2_predict -i /home/jovyan/nnU-Net/nnUNet_raw/Dataset300_combined/imagesTs -o /home/jovyan/nnU-Net/nnUNet_results/Dataset300_combined/inference/test/3d_cascade_fullres -d 300 -f  0 1 2 3 4 -prev_stage_predictions /home/jovyan/nnU-Net/nnUNet_results/Dataset300_combined/inference/test/3d_lowres -tr nnUNetTrainer -c 3d_cascade_fullres -p nnUNetPlans --save_probabilities -part_id 0 -num_parts 7 -device \"cuda\" &\n",
    "CUDA_VISIBLE_DEVICES=2 nnUNetv2_predict -i /home/jovyan/nnU-Net/nnUNet_raw/Dataset300_combined/imagesTs -o /home/jovyan/nnU-Net/nnUNet_results/Dataset300_combined/inference/test/3d_cascade_fullres -d 300 -f  0 1 2 3 4 -prev_stage_predictions /home/jovyan/nnU-Net/nnUNet_results/Dataset300_combined/inference/test/3d_lowres -tr nnUNetTrainer -c 3d_cascade_fullres -p nnUNetPlans --save_probabilities -part_id 1 -num_parts 7 -device \"cuda\" &\n",
    "CUDA_VISIBLE_DEVICES=3 nnUNetv2_predict -i /home/jovyan/nnU-Net/nnUNet_raw/Dataset300_combined/imagesTs -o /home/jovyan/nnU-Net/nnUNet_results/Dataset300_combined/inference/test/3d_cascade_fullres -d 300 -f  0 1 2 3 4 -prev_stage_predictions /home/jovyan/nnU-Net/nnUNet_results/Dataset300_combined/inference/test/3d_lowres -tr nnUNetTrainer -c 3d_cascade_fullres -p nnUNetPlans --save_probabilities -part_id 2 -num_parts 7 -device \"cuda\" &\n",
    "CUDA_VISIBLE_DEVICES=4 nnUNetv2_predict -i /home/jovyan/nnU-Net/nnUNet_raw/Dataset300_combined/imagesTs -o /home/jovyan/nnU-Net/nnUNet_results/Dataset300_combined/inference/test/3d_cascade_fullres -d 300 -f  0 1 2 3 4 -prev_stage_predictions /home/jovyan/nnU-Net/nnUNet_results/Dataset300_combined/inference/test/3d_lowres -tr nnUNetTrainer -c 3d_cascade_fullres -p nnUNetPlans --save_probabilities -part_id 3 -num_parts 7 -device \"cuda\" &\n",
    "CUDA_VISIBLE_DEVICES=5 nnUNetv2_predict -i /home/jovyan/nnU-Net/nnUNet_raw/Dataset300_combined/imagesTs -o /home/jovyan/nnU-Net/nnUNet_results/Dataset300_combined/inference/test/3d_cascade_fullres -d 300 -f  0 1 2 3 4 -prev_stage_predictions /home/jovyan/nnU-Net/nnUNet_results/Dataset300_combined/inference/test/3d_lowres -tr nnUNetTrainer -c 3d_cascade_fullres -p nnUNetPlans --save_probabilities -part_id 4 -num_parts 7 -device \"cuda\" &\n",
    "CUDA_VISIBLE_DEVICES=6 nnUNetv2_predict -i /home/jovyan/nnU-Net/nnUNet_raw/Dataset300_combined/imagesTs -o /home/jovyan/nnU-Net/nnUNet_results/Dataset300_combined/inference/test/3d_cascade_fullres -d 300 -f  0 1 2 3 4 -prev_stage_predictions /home/jovyan/nnU-Net/nnUNet_results/Dataset300_combined/inference/test/3d_lowres -tr nnUNetTrainer -c 3d_cascade_fullres -p nnUNetPlans --save_probabilities -part_id 5 -num_parts 7 -device \"cuda\" &\n",
    "CUDA_VISIBLE_DEVICES=7 nnUNetv2_predict -i /home/jovyan/nnU-Net/nnUNet_raw/Dataset300_combined/imagesTs -o /home/jovyan/nnU-Net/nnUNet_results/Dataset300_combined/inference/test/3d_cascade_fullres -d 300 -f  0 1 2 3 4 -prev_stage_predictions /home/jovyan/nnU-Net/nnUNet_results/Dataset300_combined/inference/test/3d_lowres -tr nnUNetTrainer -c 3d_cascade_fullres -p nnUNetPlans --save_probabilities -part_id 6 -num_parts 7 -device \"cuda\" &\n",
    "\n",
    "wait\n",
    "CUDA_VISIBLE_DEVICES=1 nnUNetv2_ensemble -i /home/jovyan/nnU-Net/nnUNet_results/Dataset300_combined/inference/test/2d /home/jovyan/nnU-Net/nnUNet_results/Dataset300_combined/inference/test/3d_fullres /home/jovyan/nnU-Net/nnUNet_results/Dataset300_combined/inference/test/3d_lowres -o /home/jovyan/nnU-Net/nnUNet_results/Dataset300_combined/inference/test/ensemble -np 36 --save_npz "
   ]
  },
  {
   "cell_type": "markdown",
   "metadata": {},
   "source": [
    "## Evaluation"
   ]
  },
  {
   "cell_type": "code",
   "execution_count": null,
   "metadata": {
    "vscode": {
     "languageId": "shellscript"
    }
   },
   "outputs": [],
   "source": [
    "#!/bin/bash\n",
    "\n",
    "export nnUNet_raw=\"/home/jovyan/nnU-Net/nnUNet_raw\"\n",
    "export nnUNet_preprocessed=\"/home/jovyan/nnU-Net/nnUNet_preprocessed\"\n",
    "export nnUNet_results=\"/home/jovyan/nnU-Net/nnUNet_results\"\n",
    "\n",
    "nnUNetv2_evaluate_folder -djfile /home/jovyan/nnU-Net/nnUNet_results/Dataset300_combined/inference/test/ensemble/dataset.json \\\n",
    "                         -pfile /home/jovyan/nnU-Net/nnUNet_results/Dataset300_combined/nnUNetTrainer__nnUNetPlans__3d_fullres/plans.json \\\n",
    "                         /home/jovyan/nnU-Net/nnUNet_raw/Dataset300_combined/labelsTs \\\n",
    "                         /home/jovyan/nnU-Net/nnUNet_results/Dataset300_combined/inference/test/ensemble\n",
    "wait"
   ]
  },
  {
   "cell_type": "markdown",
   "metadata": {},
   "source": [
    "Replace imagesTs with images from the super secret set to run inference on the super secret set. "
   ]
  },
  {
   "cell_type": "code",
   "execution_count": null,
   "metadata": {
    "vscode": {
     "languageId": "shellscript"
    }
   },
   "outputs": [],
   "source": [
    "#!/bin/bash\n",
    "\n",
    "export nnUNet_raw=\"/home/jovyan/nnU-Net/nnUNet_raw\"\n",
    "export nnUNet_preprocessed=\"/home/jovyan/nnU-Net/nnUNet_preprocessed\"\n",
    "export nnUNet_results=\"/home/jovyan/nnU-Net/nnUNet_results\"\n",
    "\n",
    "CUDA_VISIBLE_DEVICES=1 nnUNetv2_predict -i /home/jovyan/nnU-Net/nnUNet_raw/Dataset300_combined/imagesTs -o /home/jovyan/nnU-Net/nnUNet_results/Dataset400_supersecret/inference/test/3d_fullres -d 300 -f  0 1 2 3 4 -tr nnUNetTrainer -c 3d_fullres -p nnUNetPlans --save_probabilities -part_id 0 -num_parts 3 -device \"cuda\"&\n",
    "CUDA_VISIBLE_DEVICES=2 nnUNetv2_predict -i /home/jovyan/nnU-Net/nnUNet_raw/Dataset300_combined/imagesTs -o /home/jovyan/nnU-Net/nnUNet_results/Dataset400_supersecret/inference/test/3d_fullres -d 300 -f  0 1 2 3 4 -tr nnUNetTrainer -c 3d_fullres -p nnUNetPlans --save_probabilities -part_id 1 -num_parts 3 -device \"cuda\"&\n",
    "CUDA_VISIBLE_DEVICES=3 nnUNetv2_predict -i /home/jovyan/nnU-Net/nnUNet_raw/Dataset300_combined/imagesTs -o /home/jovyan/nnU-Net/nnUNet_results/Dataset400_supersecret/inference/test/3d_fullres -d 300 -f  0 1 2 3 4 -tr nnUNetTrainer -c 3d_fullres -p nnUNetPlans --save_probabilities -part_id 2 -num_parts 3 -device \"cuda\"&\n",
    "CUDA_VISIBLE_DEVICES=4 nnUNetv2_predict -i /home/jovyan/nnU-Net/nnUNet_raw/Dataset300_combined/imagesTs -o /home/jovyan/nnU-Net/nnUNet_results/Dataset400_supersecret/inference/test/3d_lowres -d 300 -f  0 1 2 3 4 -tr nnUNetTrainer -c 3d_lowres -p nnUNetPlans --save_probabilities -part_id 0 -num_parts 3 -device \"cuda\"&\n",
    "CUDA_VISIBLE_DEVICES=5 nnUNetv2_predict -i /home/jovyan/nnU-Net/nnUNet_raw/Dataset300_combined/imagesTs -o /home/jovyan/nnU-Net/nnUNet_results/Dataset400_supersecret/inference/test/3d_lowres -d 300 -f  0 1 2 3 4 -tr nnUNetTrainer -c 3d_lowres -p nnUNetPlans --save_probabilities -part_id 1 -num_parts 3 -device \"cuda\"&\n",
    "CUDA_VISIBLE_DEVICES=6 nnUNetv2_predict -i /home/jovyan/nnU-Net/nnUNet_raw/Dataset300_combined/imagesTs -o /home/jovyan/nnU-Net/nnUNet_results/Dataset400_supersecret/inference/test/3d_lowres -d 300 -f  0 1 2 3 4 -tr nnUNetTrainer -c 3d_lowres -p nnUNetPlans --save_probabilities -part_id 2 -num_parts 3 -device \"cuda\"&\n",
    "CUDA_VISIBLE_DEVICES=7 nnUNetv2_predict -i /home/jovyan/nnU-Net/nnUNet_raw/Dataset300_combined/imagesTs -o /home/jovyan/nnU-Net/nnUNet_results/Dataset400_supersecret/inference/test/2d -d 300 -f  0 1 2 3 4 -tr nnUNetTrainer -c 2d -p nnUNetPlans --save_probabilities -device \"cuda\"&\n",
    "wait\n",
    "CUDA_VISIBLE_DEVICES=1 nnUNetv2_predict -i /home/jovyan/nnU-Net/nnUNet_raw/Dataset300_combined/imagesTs -o /home/jovyan/nnU-Net/nnUNet_results/Dataset400_supersecret/inference/test/3d_cascade_fullres -d 300 -f  0 1 2 3 4 -prev_stage_predictions /home/jovyan/nnU-Net/nnUNet_results/Dataset400_supersecret/inference/test/3d_lowres -tr nnUNetTrainer -c 3d_cascade_fullres -p nnUNetPlans --save_probabilities -part_id 0 -num_parts 7 -device \"cuda\" &\n",
    "CUDA_VISIBLE_DEVICES=2 nnUNetv2_predict -i /home/jovyan/nnU-Net/nnUNet_raw/Dataset300_combined/imagesTs -o /home/jovyan/nnU-Net/nnUNet_results/Dataset400_supersecret/inference/test/3d_cascade_fullres -d 300 -f  0 1 2 3 4 -prev_stage_predictions /home/jovyan/nnU-Net/nnUNet_results/Dataset400_supersecret/inference/test/3d_lowres -tr nnUNetTrainer -c 3d_cascade_fullres -p nnUNetPlans --save_probabilities -part_id 1 -num_parts 7 -device \"cuda\" &\n",
    "CUDA_VISIBLE_DEVICES=3 nnUNetv2_predict -i /home/jovyan/nnU-Net/nnUNet_raw/Dataset300_combined/imagesTs -o /home/jovyan/nnU-Net/nnUNet_results/Dataset400_supersecret/inference/test/3d_cascade_fullres -d 300 -f  0 1 2 3 4 -prev_stage_predictions /home/jovyan/nnU-Net/nnUNet_results/Dataset400_supersecret/inference/test/3d_lowres -tr nnUNetTrainer -c 3d_cascade_fullres -p nnUNetPlans --save_probabilities -part_id 2 -num_parts 7 -device \"cuda\" &\n",
    "CUDA_VISIBLE_DEVICES=4 nnUNetv2_predict -i /home/jovyan/nnU-Net/nnUNet_raw/Dataset300_combined/imagesTs -o /home/jovyan/nnU-Net/nnUNet_results/Dataset400_supersecret/inference/test/3d_cascade_fullres -d 300 -f  0 1 2 3 4 -prev_stage_predictions /home/jovyan/nnU-Net/nnUNet_results/Dataset400_supersecret/inference/test/3d_lowres -tr nnUNetTrainer -c 3d_cascade_fullres -p nnUNetPlans --save_probabilities -part_id 3 -num_parts 7 -device \"cuda\" &\n",
    "CUDA_VISIBLE_DEVICES=5 nnUNetv2_predict -i /home/jovyan/nnU-Net/nnUNet_raw/Dataset300_combined/imagesTs -o /home/jovyan/nnU-Net/nnUNet_results/Dataset400_supersecret/inference/test/3d_cascade_fullres -d 300 -f  0 1 2 3 4 -prev_stage_predictions /home/jovyan/nnU-Net/nnUNet_results/Dataset400_supersecret/inference/test/3d_lowres -tr nnUNetTrainer -c 3d_cascade_fullres -p nnUNetPlans --save_probabilities -part_id 4 -num_parts 7 -device \"cuda\" &\n",
    "CUDA_VISIBLE_DEVICES=6 nnUNetv2_predict -i /home/jovyan/nnU-Net/nnUNet_raw/Dataset300_combined/imagesTs -o /home/jovyan/nnU-Net/nnUNet_results/Dataset400_supersecret/inference/test/3d_cascade_fullres -d 300 -f  0 1 2 3 4 -prev_stage_predictions /home/jovyan/nnU-Net/nnUNet_results/Dataset400_supersecret/inference/test/3d_lowres -tr nnUNetTrainer -c 3d_cascade_fullres -p nnUNetPlans --save_probabilities -part_id 5 -num_parts 7 -device \"cuda\" &\n",
    "CUDA_VISIBLE_DEVICES=7 nnUNetv2_predict -i /home/jovyan/nnU-Net/nnUNet_raw/Dataset300_combined/imagesTs -o /home/jovyan/nnU-Net/nnUNet_results/Dataset400_supersecret/inference/test/3d_cascade_fullres -d 300 -f  0 1 2 3 4 -prev_stage_predictions /home/jovyan/nnU-Net/nnUNet_results/Dataset400_supersecret/inference/test/3d_lowres -tr nnUNetTrainer -c 3d_cascade_fullres -p nnUNetPlans --save_probabilities -part_id 6 -num_parts 7 -device \"cuda\" &\n",
    "\n",
    "wait\n",
    "CUDA_VISIBLE_DEVICES=1 nnUNetv2_ensemble -i /home/jovyan/nnU-Net/nnUNet_results/Dataset400_supersecret/inference/test/2d /home/jovyan/nnU-Net/nnUNet_results/Dataset400_supersecret/inference/test/3d_fullres /home/jovyan/nnU-Net/nnUNet_results/Dataset400_supersecret/inference/test/3d_lowres -o /home/jovyan/nnU-Net/nnUNet_results/Dataset400_supersecret/inference/test/ensemble -np 36 --save_npz \n",
    "wait"
   ]
  }
 ],
 "metadata": {
  "kernelspec": {
   "display_name": "Bash",
   "language": "bash",
   "name": "bash"
  },
  "language_info": {
   "codemirror_mode": "shell",
   "file_extension": ".sh",
   "mimetype": "text/x-sh",
   "name": "bash"
  }
 },
 "nbformat": 4,
 "nbformat_minor": 2
}
