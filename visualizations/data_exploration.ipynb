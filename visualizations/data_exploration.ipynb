{
 "cells": [
  {
   "cell_type": "markdown",
   "metadata": {},
   "source": [
    "# Dependencies and imports"
   ]
  },
  {
   "cell_type": "code",
   "execution_count": null,
   "metadata": {},
   "outputs": [],
   "source": [
    "# Dependencies\n",
    "%pip install numpy\n",
    "%pip install pyvista\n",
    "%pip install \"pyvista[jupyter]\" \n",
    "%pip install trame ipywidgets\n",
    "%pip install matplotlib\n",
    "%pip install torch torchvision torchaudio\n",
    "%pip install nnunetv2\n",
    "%pip install simpleitk"
   ]
  },
  {
   "cell_type": "code",
   "execution_count": 1,
   "metadata": {},
   "outputs": [],
   "source": [
    "import numpy as np\n",
    "import SimpleITK as sitk\n",
    "import pyvista as pv\n",
    "import matplotlib.pyplot as plt"
   ]
  },
  {
   "cell_type": "markdown",
   "metadata": {},
   "source": [
    "# Loading in the data"
   ]
  },
  {
   "cell_type": "code",
   "execution_count": 2,
   "metadata": {},
   "outputs": [],
   "source": [
    "# volume = pv.read(f\"nnUNet_raw/Dataset100_normal/imagesTs/NORMAL_001_0000.nrrd\")\n",
    "# volume = pv.read(\"SECRET_002_0000.nrrd\")\n",
    "# annotations = pv.read(f\"SECRET_002.nrrd\")\n",
    "# centerline = pv.read(f\"nnUNet_raw/Dataset100_normal/ReorientedCenterlines/NORMAL_1.vtp\")\n",
    "annotations_true = pv.read(f\"../ground_NORMAL_017.nrrd\")\n",
    "annotations_inf_1 = pv.read(f\"../exp1_NORMAL_017.nrrd\")\n",
    "annotations_inf_2 = pv.read(f\"../exp2_NORMAL_017.nrrd\")\n",
    "annotations_inf_3 = pv.read(f\"../exp3_NORMAL_017.nii.gz\")\n",
    "# mesh = pv.read(f\"nnUNet_raw/Dataset100_normal/ReorientedMeshes/Normal_1.stl\")\n",
    "\n",
    "# annotations = pv.read(f\"Results/NORMAL_001.nrrd\")"
   ]
  },
  {
   "cell_type": "markdown",
   "metadata": {},
   "source": [
    "# Exploratory analysis"
   ]
  },
  {
   "cell_type": "code",
   "execution_count": null,
   "metadata": {},
   "outputs": [
    {
     "name": "stdout",
     "output_type": "stream",
     "text": [
      "[0 0 0 ... 0 0 0]\n",
      "Annotations:\n",
      " ImageData (0x1b43064bee0)\n",
      "  N Cells:      48046264\n",
      "  N Points:     48496640\n",
      "  X Bounds:     -7.870e+01, 8.598e+01\n",
      "  Y Bounds:     -9.080e+01, 7.388e+01\n",
      "  Z Bounds:     -2.070e+02, -9.200e+01\n",
      "  Dimensions:   512, 512, 185\n",
      "  Spacing:      3.223e-01, 3.223e-01, 6.250e-01\n",
      "  N Arrays:     1\n",
      "Min-Max: 0 to 1\n"
     ]
    },
    {
     "data": {
      "application/vnd.jupyter.widget-view+json": {
       "model_id": "e43745f6f0d448019adef503c50138e0",
       "version_major": 2,
       "version_minor": 0
      },
      "text/plain": [
       "Widget(value='<iframe src=\"http://localhost:65311/index.html?ui=P_0x1b419bf7f10_48&reconnect=auto\" class=\"pyvi…"
      ]
     },
     "metadata": {},
     "output_type": "display_data"
    }
   ],
   "source": [
    "print(annotations.point_data[\"ImageScalars\"] )\n",
    "\n",
    "print(\"Annotations:\\n\",annotations)\n",
    "scalar_values = annotations.point_data[\"ImageScalars\"] \n",
    "print(f\"Min-Max: {scalar_values.min()} to {scalar_values.max()}\")\n",
    "\n"
   ]
  },
  {
   "cell_type": "markdown",
   "metadata": {},
   "source": [
    "## Volumes"
   ]
  },
  {
   "cell_type": "code",
   "execution_count": null,
   "metadata": {},
   "outputs": [
    {
     "name": "stdout",
     "output_type": "stream",
     "text": [
      "Volume:\n",
      " ImageData (0x7f164a416b00)\n",
      "  N Cells:      54835410\n",
      "  N Points:     55312384\n",
      "  X Bounds:     -1.027e+02, 9.192e+01\n",
      "  Y Bounds:     -9.850e+01, 9.612e+01\n",
      "  Z Bounds:     -2.115e+02, -8.025e+01\n",
      "  Dimensions:   512, 512, 211\n",
      "  Spacing:      3.809e-01, 3.809e-01, 6.250e-01\n",
      "  N Arrays:     1\n",
      "Min-Max: -3024 to 1734\n"
     ]
    },
    {
     "data": {
      "image/png": "[encoded data removed]",
      "text/plain": [
       "<Figure size 800x500 with 1 Axes>"
      ]
     },
     "metadata": {},
     "output_type": "display_data"
    },
    {
     "name": "stdout",
     "output_type": "stream",
     "text": [
      "Annotations:\n",
      " ImageData (0x7f164a416b60)\n",
      "  N Cells:      54835410\n",
      "  N Points:     55312384\n",
      "  X Bounds:     -1.027e+02, 9.192e+01\n",
      "  Y Bounds:     -9.850e+01, 9.612e+01\n",
      "  Z Bounds:     -2.115e+02, -8.025e+01\n",
      "  Dimensions:   512, 512, 211\n",
      "  Spacing:      3.809e-01, 3.809e-01, 6.250e-01\n",
      "  N Arrays:     1\n",
      "Min-Max: 0 to 1\n"
     ]
    }
   ],
   "source": [
    "print(\"Volume:\\n\",volume)\n",
    "\n",
    "\n",
    "scalar_values = volume.point_data[\"ImageScalars\"] \n",
    "print(f\"Min-Max: {scalar_values.min()} to {scalar_values.max()}\")\n",
    "\n",
    "plt.figure(figsize=(8, 5))\n",
    "plt.hist(scalar_values.flatten(), bins=15, color='blue', alpha=0.7)\n",
    "plt.xlabel(\"Scalar Value\")\n",
    "plt.ylabel(\"Frequency\")\n",
    "plt.title(f\"Hounsfield units\")\n",
    "plt.grid(True)\n",
    "plt.show()\n",
    "\n",
    "\n",
    "print(\"Annotations:\\n\",annotations)\n",
    "scalar_values = annotations.point_data[\"ImageScalars\"] \n",
    "print(f\"Min-Max: {scalar_values.min()} to {scalar_values.max()}\")\n"
   ]
  },
  {
   "cell_type": "markdown",
   "metadata": {},
   "source": [
    "## Meshes"
   ]
  },
  {
   "cell_type": "code",
   "execution_count": null,
   "metadata": {},
   "outputs": [
    {
     "name": "stdout",
     "output_type": "stream",
     "text": [
      "PolyData (0x7fcfc727e4a0)\n",
      "  N Cells:    4\n",
      "  N Points:   4994\n",
      "  N Strips:   0\n",
      "  X Bounds:   -3.316e+01, 5.204e+01\n",
      "  Y Bounds:   -1.088e+02, -1.516e+01\n",
      "  Z Bounds:   -1.603e+02, -7.493e+01\n",
      "  N Arrays:   1\n",
      "PolyData (0x7fcfc727e620)\n",
      "  N Cells:    46156\n",
      "  N Points:   23076\n",
      "  N Strips:   0\n",
      "  X Bounds:   -3.436e+01, 5.289e+01\n",
      "  Y Bounds:   -1.098e+02, -1.447e+01\n",
      "  Z Bounds:   -1.612e+02, -7.288e+01\n",
      "  N Arrays:   0\n"
     ]
    }
   ],
   "source": [
    "print(centerline)\n",
    "print(mesh)"
   ]
  },
  {
   "cell_type": "markdown",
   "metadata": {},
   "source": [
    "# Pyvista visualizer\n",
    "<span style=\"color:red\">*This will segfault if using the juypter.utwente cluster, so run visualizations locally for now!*</span><br> This is because we're running things inside a container (xserver missing)"
   ]
  },
  {
   "cell_type": "code",
   "execution_count": 4,
   "metadata": {},
   "outputs": [],
   "source": [
    "clim = (0, 300)\n"
   ]
  },
  {
   "cell_type": "code",
   "execution_count": null,
   "metadata": {},
   "outputs": [
    {
     "data": {
      "application/vnd.jupyter.widget-view+json": {
       "model_id": "e83e6103f82d4fbc83dd419c4331abf5",
       "version_major": 2,
       "version_minor": 0
      },
      "text/plain": [
       "Widget(value='<iframe src=\"http://localhost:55105/index.html?ui=P_0x21283ec7490_2&reconnect=auto\" class=\"pyvis…"
      ]
     },
     "metadata": {},
     "output_type": "display_data"
    }
   ],
   "source": [
    "plotter = pv.Plotter()\n",
    "# plotter.add_volume(volume, clim=clim, cmap=\"gray\")\n",
    "# plotter.add_volume(annotations,cmap=\"cividis\",opacity=\"sigmoid\")  \n",
    "plotter.show()"
   ]
  },
  {
   "cell_type": "code",
   "execution_count": 3,
   "metadata": {},
   "outputs": [],
   "source": [
    "\n",
    "# thresholded_true = annotations.threshold(0.5)\n",
    "# thresholded_true = annotations_true.threshold(0.5)\n",
    "# thresholded_inf = annotations_inf.threshold(0.5)\n",
    "\n",
    "# thresholded_true = annotations_true.threshold(0.5)\n",
    "# thresholded_inf_1 = annotations_inf_1.threshold(0.5)\n",
    "# thresholded_inf_2 = annotations_inf_2.threshold(0.5)\n",
    "thresholded_inf_3 = annotations_inf_3.threshold(0.5)\n",
    "\n"
   ]
  },
  {
   "cell_type": "code",
   "execution_count": 4,
   "metadata": {},
   "outputs": [
    {
     "data": {
      "application/vnd.jupyter.widget-view+json": {
       "model_id": "b8e94df2b98749bc964467e1ae31ef5d",
       "version_major": 2,
       "version_minor": 0
      },
      "text/plain": [
       "Widget(value='<iframe src=\"http://localhost:35209/index.html?ui=P_0x74479200cd70_0&reconnect=auto\" class=\"pyvi…"
      ]
     },
     "metadata": {},
     "output_type": "display_data"
    }
   ],
   "source": [
    "plotter = pv.Plotter()\n",
    "# plotter.add_volume(volume, clim=clim, cmap=\"gray\")\n",
    "# plotter.add_volume(annotations,cmap=\"cividis\",opacity=\"sigmoid\")  \n",
    "\n",
    "# plotter.add_mesh(\n",
    "#     thresholded_true, \n",
    "#     scalars=thresholded_true.active_scalars_name,\n",
    "#     clim=[thresholded_true.active_scalars.min(), thresholded_true.active_scalars.max()],  \n",
    "#     cmap=[\"#F46920\"], \n",
    "#     opacity=1.0,  \n",
    "#     show_scalar_bar=True\n",
    "# )\n",
    "# plotter.add_mesh(\n",
    "#     thresholded_inf_1, \n",
    "#     scalars=thresholded_inf_1.active_scalars_name,\n",
    "#     clim=[thresholded_inf_1.active_scalars.min(), thresholded_inf_1.active_scalars.max()],  \n",
    "#     cmap=[\"#F46920\"], \n",
    "#     opacity=1.0,  \n",
    "#     show_scalar_bar=True\n",
    "# )\n",
    "# plotter.add_mesh(\n",
    "#     thresholded_inf_2, \n",
    "#     scalars=thresholded_inf_2.active_scalars_name,\n",
    "#     clim=[thresholded_inf_2.active_scalars.min(), thresholded_inf_2.active_scalars.max()],  \n",
    "#     cmap=[\"#F46920\"], \n",
    "#     opacity=1.0,  \n",
    "#     show_scalar_bar=True\n",
    "# )\n",
    "plotter.add_mesh(\n",
    "    thresholded_inf_3, \n",
    "    scalars=thresholded_inf_3.active_scalars_name,\n",
    "    clim=[thresholded_inf_3.active_scalars.min(), thresholded_inf_3.active_scalars.max()],  \n",
    "    cmap=[\"#F46920\"], \n",
    "    opacity=1.0,  \n",
    "    show_scalar_bar=True\n",
    ")\n",
    "# plotter.add_mesh(centerline, color=\"red\", line_width=2)  \n",
    "# plotter.add_mesh(mesh, color=\"blue\",opacity=0.7)\n",
    "plotter.show()"
   ]
  }
 ],
 "metadata": {
  "kernelspec": {
   "display_name": "venv",
   "language": "python",
   "name": "python3"
  },
  "language_info": {
   "codemirror_mode": {
    "name": "ipython",
    "version": 3
   },
   "file_extension": ".py",
   "mimetype": "text/x-python",
   "name": "python",
   "nbconvert_exporter": "python",
   "pygments_lexer": "ipython3",
   "version": "3.13.3"
  }
 },
 "nbformat": 4,
 "nbformat_minor": 2
}
