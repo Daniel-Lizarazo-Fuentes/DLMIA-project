{
 "cells": [
  {
   "cell_type": "code",
   "execution_count": 1,
   "metadata": {
    "vscode": {
     "languageId": "shellscript"
    }
   },
   "outputs": [
    {
     "name": "stdout",
     "output_type": "stream",
     "text": [
      "Filesystem      Size  Used Avail Use% Mounted on\n",
      "shm             128G  136K  128G   1% /dev/shm\n"
     ]
    }
   ],
   "source": [
    "df -h /dev/shm"
   ]
  },
  {
   "cell_type": "markdown",
   "metadata": {},
   "source": [
    "# Kill all nnUNet related processes and children if necessary "
   ]
  },
  {
   "cell_type": "code",
   "execution_count": 2,
   "metadata": {
    "vscode": {
     "languageId": "shellscript"
    }
   },
   "outputs": [
    {
     "name": "stdout",
     "output_type": "stream",
     "text": [
      "\n",
      "Usage:\n",
      " kill [options] <pid> [...]\n",
      "\n",
      "Options:\n",
      " <pid> [...]            send signal to every <pid> listed\n",
      " -<signal>, -s, --signal <signal>\n",
      "                        specify the <signal> to be sent\n",
      " -q, --queue <value>    integer value to be sent with the signal\n",
      " -l, --list=[<signal>]  list all signal names, or convert one to a name\n",
      " -L, --table            list all signal names in a nice table\n",
      "\n",
      " -h, --help     display this help and exit\n",
      " -V, --version  output version information and exit\n",
      "\n",
      "For more details see kill(1).\n"
     ]
    },
    {
     "ename": "",
     "evalue": "123",
     "output_type": "error",
     "traceback": []
    }
   ],
   "source": [
    "# ps aux | grep nnUNetv2_train\n",
    "ps aux | grep nnUNetv2_train | grep -v grep | awk '{print $2}' | xargs kill -9\n"
   ]
  },
  {
   "cell_type": "code",
   "execution_count": null,
   "metadata": {
    "vscode": {
     "languageId": "shellscript"
    }
   },
   "outputs": [],
   "source": [
    "nvidia-smi\n",
    "# watch -n0.1 nvidia-smi # does not render in notebook, needs to be in native bash"
   ]
  },
  {
   "cell_type": "code",
   "execution_count": 5,
   "metadata": {
    "vscode": {
     "languageId": "shellscript"
    }
   },
   "outputs": [],
   "source": [
    "export nnUNet_raw=\"/home/jovyan/nnUNet_raw\"\n",
    "export nnUNet_preprocessed=\"/home/jovyan/nnUNet_preprocessed\"\n",
    "export nnUNet_results=\"/home/jovyan/nnUNet_results\""
   ]
  },
  {
   "cell_type": "code",
   "execution_count": 6,
   "metadata": {
    "vscode": {
     "languageId": "shellscript"
    }
   },
   "outputs": [
    {
     "name": "stdout",
     "output_type": "stream",
     "text": [
      "/home/jovyan/nnUNet_raw\n",
      "/bin/bash\n"
     ]
    }
   ],
   "source": [
    "echo $nnUNet_raw\n",
    "echo $SHELL"
   ]
  },
  {
   "cell_type": "markdown",
   "metadata": {},
   "source": [
    "Editing the number of epochs"
   ]
  },
  {
   "cell_type": "code",
   "execution_count": null,
   "metadata": {
    "vscode": {
     "languageId": "shellscript"
    }
   },
   "outputs": [],
   "source": [
    "cat /home/jovyan/.local/lib/python3.10/site-packages/nnunetv2/training/nnUNetTrainer/nnUNetTrainer.py\n",
    "#nano /home/jovyan/.local/lib/python3.10/site-packages/nnunetv2/training/nnUNetTrainer/nnUNetTrainer.py"
   ]
  },
  {
   "cell_type": "code",
   "execution_count": null,
   "metadata": {
    "vscode": {
     "languageId": "shellscript"
    }
   },
   "outputs": [],
   "source": [
    "# chmod +x x.sh"
   ]
  },
  {
   "cell_type": "code",
   "execution_count": null,
   "metadata": {
    "vscode": {
     "languageId": "shellscript"
    }
   },
   "outputs": [],
   "source": [
    "# ./x.sh"
   ]
  },
  {
   "cell_type": "markdown",
   "metadata": {},
   "source": [
    "# Preprocessing"
   ]
  },
  {
   "cell_type": "code",
   "execution_count": null,
   "metadata": {
    "vscode": {
     "languageId": "shellscript"
    }
   },
   "outputs": [],
   "source": [
    ".local/bin/nnUNetv2_plan_and_preprocess -d 300 --verify_dataset_integrity -np 32"
   ]
  },
  {
   "cell_type": "markdown",
   "metadata": {},
   "source": [
    "# Training 2d"
   ]
  },
  {
   "cell_type": "code",
   "execution_count": null,
   "metadata": {
    "vscode": {
     "languageId": "shellscript"
    }
   },
   "outputs": [
    {
     "name": "stdout",
     "output_type": "stream",
     "text": [
      "[2] 167330\n",
      "\n"
     ]
    }
   ],
   "source": [
    "#!/bin/bash\n",
    "\n",
    "export nnUNet_raw=\"/home/jovyan/nnUNet_raw\"\n",
    "export nnUNet_preprocessed=\"/home/jovyan/nnUNet_preprocessed\"\n",
    "export nnUNet_results=\"/home/jovyan/nnUNet_results\"\n",
    "\n",
    "CUDA_VISIBLE_DEVICES=7 .local/bin/nnUNetv2_train -device \"cuda\" 300 2d 0 & \n",
    "sleep 120\n",
    "# CUDA_VISIBLE_DEVICES=2 .local/bin/nnUNetv2_train -device \"cuda\" 300 2d 1 & \n",
    "# sleep 120\n",
    "# CUDA_VISIBLE_DEVICES=3 .local/bin/nnUNetv2_train -device \"cuda\" 300 2d 2 & \n",
    "# sleep 120\n",
    "# CUDA_VISIBLE_DEVICES=4 .local/bin/nnUNetv2_train -device \"cuda\" 300 2d 3 & \n",
    "# sleep 120\n",
    "# CUDA_VISIBLE_DEVICES=5 .local/bin/nnUNetv2_train -device \"cuda\" 300 2d 4 & \n",
    "# sleep 120\n",
    "wait"
   ]
  },
  {
   "cell_type": "markdown",
   "metadata": {},
   "source": [
    "# Training 3d_low_res"
   ]
  },
  {
   "cell_type": "code",
   "execution_count": null,
   "metadata": {
    "vscode": {
     "languageId": "shellscript"
    }
   },
   "outputs": [],
   "source": [
    "#!/bin/bash\n",
    "\n",
    "export nnUNet_raw=\"/home/jovyan/nnUNet_raw\"\n",
    "export nnUNet_preprocessed=\"/home/jovyan/nnUNet_preprocessed\"\n",
    "export nnUNet_results=\"/home/jovyan/nnUNet_results\"\n",
    "\n",
    "# CUDA_VISIBLE_DEVICES=6 .local/bin/nnUNetv2_train -device \"cuda\" 300 3d_lowres 0 &\n",
    "# sleep 120\n",
    "# CUDA_VISIBLE_DEVICES=7 .local/bin/nnUNetv2_train -device \"cuda\" 300 3d_lowres 1 &\n",
    "# sleep 120\n",
    "# CUDA_VISIBLE_DEVICES=5 .local/bin/nnUNetv2_train -device \"cuda\" 300 3d_lowres 2 & \n",
    "# sleep 120\n",
    "# CUDA_VISIBLE_DEVICES=6 .local/bin/nnUNetv2_train -device \"cuda\" 300 3d_lowres 3 & \n",
    "# sleep 120\n",
    "# CUDA_VISIBLE_DEVICES=7 .local/bin/nnUNetv2_train -device \"cuda\" 300 3d_lowres 4 & \n",
    "# sleep 120\n",
    "wait"
   ]
  },
  {
   "cell_type": "markdown",
   "metadata": {},
   "source": [
    "# Training 3d_full_res"
   ]
  },
  {
   "cell_type": "code",
   "execution_count": null,
   "metadata": {
    "vscode": {
     "languageId": "shellscript"
    }
   },
   "outputs": [
    {
     "name": "stdout",
     "output_type": "stream",
     "text": [
      "[1] 157048\n",
      "\n",
      "############################\n",
      "INFO: You are using the old nnU-Net default plans. We have updated our recommendations. Please consider using those instead! Read more here: https://github.com/MIC-DKFZ/nnUNet/blob/master/documentation/resenc_presets.md\n",
      "############################\n",
      "\n",
      "using port 55927\n",
      "[W socket.cpp:697] [c10d] The client socket has failed to connect to [localhost]:55927 (errno: 99 - Cannot assign requested address).\n",
      "I am local rank 0. 2 GPUs are available. The world size is 2.Setting device to cuda\n",
      "I am local rank 1. 2 GPUs are available. The world size is 2.Setting device to cuda\n",
      "\n",
      "#######################################################################\n",
      "Please cite the following paper when using nnU-Net:\n",
      "Isensee, F., Jaeger, P. F., Kohl, S. A., Petersen, J., & Maier-Hein, K. H. (2021). nnU-Net: a self-configuring method for deep learning-based biomedical image segmentation. Nature methods, 18(2), 203-211.\n",
      "#######################################################################\n",
      "\n",
      "worker 1 oversample 1.0\n",
      "worker 1 batch_size 1\n",
      "\n",
      "#######################################################################\n",
      "Please cite the following paper when using nnU-Net:\n",
      "Isensee, F., Jaeger, P. F., Kohl, S. A., Petersen, J., & Maier-Hein, K. H. (2021). nnU-Net: a self-configuring method for deep learning-based biomedical image segmentation. Nature methods, 18(2), 203-211.\n",
      "#######################################################################\n",
      "\n",
      "worker 0 oversample 0.0\n",
      "worker 0 batch_size 1\n",
      "2025-03-31 16:53:01.819678: Using torch.compile...\n",
      "Using torch.compile...\n",
      "do_dummy_2d_data_aug: False\n",
      "Using splits from existing split file: /home/jovyan/nnUNet_preprocessed/Dataset300_combined/splits_final.json\n",
      "The split file contains 5 splits.\n",
      "Desired fold for training: 0\n",
      "This split has 25 training and 7 validation cases.\n",
      "2025-03-31 16:53:03.096185: do_dummy_2d_data_aug: False\n",
      "2025-03-31 16:53:03.100107: Using splits from existing split file: /home/jovyan/nnUNet_preprocessed/Dataset300_combined/splits_final.json\n",
      "2025-03-31 16:53:03.103664: The split file contains 5 splits.\n",
      "2025-03-31 16:53:03.105274: Desired fold for training: 0\n",
      "2025-03-31 16:53:03.107399: This split has 25 training and 7 validation cases.\n",
      "using pin_memory on device 1\n",
      "using pin_memory on device 0\n"
     ]
    }
   ],
   "source": [
    "#!/bin/bash\n",
    "\n",
    "export nnUNet_raw=\"/home/jovyan/nnUNet_raw\"\n",
    "export nnUNet_preprocessed=\"/home/jovyan/nnUNet_preprocessed\"\n",
    "export nnUNet_results=\"/home/jovyan/nnUNet_results\"\n",
    "\n",
    "CUDA_VISIBLE_DEVICES=1,2 .local/bin/nnUNetv2_train -device \"cuda\" 300 3d_fullres 0 -num_gpus 2& \n",
    "sleep 120\n",
    "CUDA_VISIBLE_DEVICES=3,4 .local/bin/nnUNetv2_train -device \"cuda\" 300 3d_fullres 1 -num_gpus 2& \n",
    "sleep 120\n",
    "CUDA_VISIBLE_DEVICES=5,6 .local/bin/nnUNetv2_train -device \"cuda\" 300 3d_fullres 2 -num_gpus 2& \n",
    "sleep 120\n",
    "# CUDA_VISIBLE_DEVICES=4 .local/bin/nnUNetv2_train -device \"cuda\" 300 3d_fullres 3 & \n",
    "# sleep 120\n",
    "# CUDA_VISIBLE_DEVICES=5 .local/bin/nnUNetv2_train -device \"cuda\" 300 3d_fullres 4 & \n",
    "# sleep 120\n",
    "wait"
   ]
  },
  {
   "cell_type": "markdown",
   "metadata": {},
   "source": [
    "# 3d_cascade_fullres"
   ]
  },
  {
   "cell_type": "code",
   "execution_count": null,
   "metadata": {
    "vscode": {
     "languageId": "shellscript"
    }
   },
   "outputs": [],
   "source": [
    "#!/bin/bash\n",
    "\n",
    "export nnUNet_raw=\"/home/jovyan/nnUNet_raw\"\n",
    "export nnUNet_preprocessed=\"/home/jovyan/nnUNet_preprocessed\"\n",
    "export nnUNet_results=\"/home/jovyan/nnUNet_results\"\n",
    "\n",
    "# CUDA_VISIBLE_DEVICES=6 .local/bin/nnUNetv2_train -device \"cuda\" 300 3d_cascade_fullres 0 & \n",
    "# sleep 120\n",
    "# CUDA_VISIBLE_DEVICES=2,7 .local/bin/nnUNetv2_train -device \"cuda\" 300 3d_cascade_fullres 1 -num_gpus 2 & \n",
    "# sleep 120\n",
    "# CUDA_VISIBLE_DEVICES=3 .local/bin/nnUNetv2_train -device \"cuda\" 300 3d_cascade_fullres 2 & \n",
    "# sleep 120\n",
    "# CUDA_VISIBLE_DEVICES=4 .local/bin/nnUNetv2_train -device \"cuda\" 300 3d_cascade_fullres 3 & \n",
    "# sleep 120\n",
    "# CUDA_VISIBLE_DEVICES=5 .local/bin/nnUNetv2_train -device \"cuda\" 300 3d_cascade_fullres 4 & \n",
    "# sleep 120\n",
    "wait"
   ]
  },
  {
   "cell_type": "markdown",
   "metadata": {},
   "source": [
    "# Predictions Test"
   ]
  },
  {
   "cell_type": "code",
   "execution_count": null,
   "metadata": {
    "vscode": {
     "languageId": "shellscript"
    }
   },
   "outputs": [],
   "source": [
    "#!/bin/bash\n",
    "\n",
    "export nnUNet_raw=\"/home/jovyan/nnUNet_raw\"\n",
    "export nnUNet_preprocessed=\"/home/jovyan/nnUNet_preprocessed\"\n",
    "export nnUNet_results=\"/home/jovyan/nnUNet_results\"\n",
    "\n",
    "CUDA_VISIBLE_DEVICES=1 nnUNetv2_predict -i /home/jovyan/nnUNet_raw/Dataset300_normal/imagesTs -o /home/jovyan/nnUNet_results/Dataset300_normal/inference/test/3d_fullres -d 300 -f  0 1 2 3 4 -tr nnUNetTrainer -c 3d_fullres -p nnUNetPlans --save_probabilities\n",
    "CUDA_VISIBLE_DEVICES=2 nnUNetv2_predict -i /home/jovyan/nnUNet_raw/Dataset300_normal/imagesTs -o /home/jovyan/nnUNet_results/Dataset300_normal/inference/test/3d_lowres -d 300 -f  0 1 2 3 4 -tr nnUNetTrainer -c 3d_lowres -p nnUNetPlans --save_probabilities\n",
    "CUDA_VISIBLE_DEVICES=3 nnUNetv2_predict -i /home/jovyan/nnUNet_raw/Dataset300_normal/imagesTs -o /home/jovyan/nnUNet_results/Dataset300_normal/inference/test/2d -d 300 -f  0 1 2 3 4 -tr nnUNetTrainer -c 2d -p nnUNetPlans --save_probabilities\n",
    "wait\n",
    "CUDA_VISIBLE_DEVICES=1 nnUNetv2_predict -i /home/jovyan/nnUNet_raw/Dataset300_normal/imagesTs -o /home/jovyan/nnUNet_results/Dataset300_normal/inference/test/3d_cascade_fullres -d 300 -f  0 1 2 3 4 -prev_stage_predictions /home/jovyan/nnUNet_results/Dataset300_normal/inference/test/3d_lowres -tr nnUNetTrainer -c 3d_cascade_fullres -p nnUNetPlans --save_probabilities\n",
    "wait\n",
    "nnUNetv2_ensemble -i /home/jovyan/nnUNet_results/Dataset300_normal/inference/test/3d_cascade_fullres /home/jovyan/nnUNet_results/Dataset300_normal/inference/test/2d /home/jovyan/nnUNet_results/Dataset300_normal/inference/test/3d_fullres /home/jovyan/nnUNet_results/Dataset300_normal/inference/test/3d_lowres -o /home/jovyan/nnUNet_results/Dataset300_normal/inference/test/ensemble -np 36 --save_npz \n"
   ]
  },
  {
   "cell_type": "markdown",
   "metadata": {},
   "source": [
    "# Predictions Train\n",
    "Not really necessary but nice to look at..."
   ]
  },
  {
   "cell_type": "code",
   "execution_count": null,
   "metadata": {
    "vscode": {
     "languageId": "shellscript"
    }
   },
   "outputs": [],
   "source": [
    "#!/bin/bash\n",
    "\n",
    "export nnUNet_raw=\"/home/jovyan/nnUNet_raw\"\n",
    "export nnUNet_preprocessed=\"/home/jovyan/nnUNet_preprocessed\"\n",
    "export nnUNet_results=\"/home/jovyan/nnUNet_results\"\n",
    "\n",
    "CUDA_VISIBLE_DEVICES=1 nnUNetv2_predict -i /home/jovyan/nnUNet_raw/Dataset300_normal/imagesTr -o /home/jovyan/nnUNet_results/Dataset300_normal/inference/train/3d_fullres -d 300 -f 0 1 2 3 4 -tr nnUNetTrainer -c 3d_fullres -p nnUNetPlans --save_probabilities\n",
    "CUDA_VISIBLE_DEVICES=2 nnUNetv2_predict -i /home/jovyan/nnUNet_raw/Dataset300_normal/imagesTr -o /home/jovyan/nnUNet_results/Dataset300_normal/inference/train/3d_lowres -d 300 -f 0 1 2 3 4 -tr nnUNetTrainer -c 3d_lowres -p nnUNetPlans --save_probabilities\n",
    "CUDA_VISIBLE_DEVICES=3 nnUNetv2_predict -i /home/jovyan/nnUNet_raw/Dataset300_normal/imagesTr -o /home/jovyan/nnUNet_results/Dataset300_normal/inference/train/2d -d 300 -f 0 1 2 3 4 -tr nnUNetTrainer -c 2d -p nnUNetPlans --save_probabilities\n",
    "wait\n",
    "CUDA_VISIBLE_DEVICES=1 nnUNetv2_predict -i /home/jovyan/nnUNet_raw/Dataset300_normal/imagesTr -o /home/jovyan/nnUNet_results/Dataset300_normal/inference/train/3d_cascade_fullres -d 300 -f 0 1 2 3 4 -prev_stage_predictions /home/jovyan/nnUNet_results/Dataset300_normal/inference/train/3d_lowres -tr nnUNetTrainer -c 3d_cascade_fullres -p nnUNetPlans --save_probabilities\n",
    "wait\n",
    "nnUNetv2_ensemble -i /home/jovyan/nnUNet_results/Dataset300_normal/inference/train/3d_cascade_fullres /home/jovyan/nnUNet_results/Dataset300_normal/inference/train/2d /home/jovyan/nnUNet_results/Dataset300_normal/inference/train/3d_fullres /home/jovyan/nnUNet_results/Dataset300_normal/inference/train/3d_lowres -o /home/jovyan/nnUNet_results/Dataset300_normal/inference/train/ensemble -np 36 --save_npz\n",
    "wait"
   ]
  },
  {
   "cell_type": "code",
   "execution_count": null,
   "metadata": {
    "vscode": {
     "languageId": "shellscript"
    }
   },
   "outputs": [],
   "source": [
    "nnUNetv2_evaluate_folder -ref /home/jovyan/nnUNet_raw/Dataset300_normal/labelsTr -pred /home/jovyan/nnUNet_results/Dataset300_normal/inference/train/ensemble -l 300\n"
   ]
  }
 ],
 "metadata": {
  "kernelspec": {
   "display_name": "Bash",
   "language": "bash",
   "name": "bash"
  },
  "language_info": {
   "codemirror_mode": "shell",
   "file_extension": ".sh",
   "mimetype": "text/x-sh",
   "name": "bash"
  }
 },
 "nbformat": 4,
 "nbformat_minor": 2
}
