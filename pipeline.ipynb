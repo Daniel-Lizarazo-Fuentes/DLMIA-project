{
 "cells": [
  {
   "cell_type": "code",
   "execution_count": 1,
   "metadata": {
    "vscode": {
     "languageId": "shellscript"
    }
   },
   "outputs": [
    {
     "name": "stdout",
     "output_type": "stream",
     "text": [
      "Filesystem      Size  Used Avail Use% Mounted on\n",
      "shm             128G  1.2G  127G   1% /dev/shm\n"
     ]
    }
   ],
   "source": [
    "df -h /dev/shm"
   ]
  },
  {
   "cell_type": "markdown",
   "metadata": {},
   "source": [
    "# Kill all nnUNet related processes and children if necessary "
   ]
  },
  {
   "cell_type": "code",
   "execution_count": null,
   "metadata": {
    "vscode": {
     "languageId": "shellscript"
    }
   },
   "outputs": [],
   "source": [
    "# ps aux | grep nnUNetv2_train\n",
    "ps aux | grep nnUNetv2_train | grep -v grep | awk '{print $2}' | xargs kill -9\n"
   ]
  },
  {
   "cell_type": "code",
   "execution_count": 2,
   "metadata": {
    "vscode": {
     "languageId": "shellscript"
    }
   },
   "outputs": [
    {
     "name": "stdout",
     "output_type": "stream",
     "text": [
      "Wed Mar 26 23:34:06 2025       \n",
      "+-----------------------------------------------------------------------------------------+\n",
      "| NVIDIA-SMI 555.42.06              Driver Version: 555.42.06      CUDA Version: 12.5     |\n",
      "|-----------------------------------------+------------------------+----------------------+\n",
      "| GPU  Name                 Persistence-M | Bus-Id          Disp.A | Volatile Uncorr. ECC |\n",
      "| Fan  Temp   Perf          Pwr:Usage/Cap |           Memory-Usage | GPU-Util  Compute M. |\n",
      "|                                         |                        |               MIG M. |\n",
      "|=========================================+========================+======================|\n",
      "|   0  NVIDIA A16                     Off |   00000000:1B:00.0 Off |                    0 |\n",
      "|  0%   44C    P0             44W /   62W |     183MiB /  15356MiB |     50%      Default |\n",
      "|                                         |                        |                  N/A |\n",
      "+-----------------------------------------+------------------------+----------------------+\n",
      "|   1  NVIDIA A16                     Off |   00000000:1C:00.0 Off |                    0 |\n",
      "|  0%   56C    P0             59W /   62W |    2017MiB /  15356MiB |    100%      Default |\n",
      "|                                         |                        |                  N/A |\n",
      "+-----------------------------------------+------------------------+----------------------+\n",
      "|   2  NVIDIA A16                     Off |   00000000:1D:00.0 Off |                    0 |\n",
      "|  0%   31C    P8             15W /   62W |       4MiB /  15356MiB |      0%      Default |\n",
      "|                                         |                        |                  N/A |\n",
      "+-----------------------------------------+------------------------+----------------------+\n",
      "|   3  NVIDIA A16                     Off |   00000000:1E:00.0 Off |                    0 |\n",
      "|  0%   30C    P8             15W /   62W |       4MiB /  15356MiB |      0%      Default |\n",
      "|                                         |                        |                  N/A |\n",
      "+-----------------------------------------+------------------------+----------------------+\n",
      "|   4  NVIDIA A16                     Off |   00000000:CE:00.0 Off |                    0 |\n",
      "|  0%   30C    P8             14W /   62W |       4MiB /  15356MiB |      0%      Default |\n",
      "|                                         |                        |                  N/A |\n",
      "+-----------------------------------------+------------------------+----------------------+\n",
      "|   5  NVIDIA A16                     Off |   00000000:CF:00.0 Off |                    0 |\n",
      "|  0%   31C    P8             14W /   62W |       4MiB /  15356MiB |      0%      Default |\n",
      "|                                         |                        |                  N/A |\n",
      "+-----------------------------------------+------------------------+----------------------+\n",
      "|   6  NVIDIA A16                     Off |   00000000:D0:00.0 Off |                    0 |\n",
      "|  0%   29C    P8             14W /   62W |       4MiB /  15356MiB |      0%      Default |\n",
      "|                                         |                        |                  N/A |\n",
      "+-----------------------------------------+------------------------+----------------------+\n",
      "|   7  NVIDIA A16                     Off |   00000000:D1:00.0 Off |                    0 |\n",
      "|  0%   28C    P8             15W /   62W |       4MiB /  15356MiB |      0%      Default |\n",
      "|                                         |                        |                  N/A |\n",
      "+-----------------------------------------+------------------------+----------------------+\n",
      "                                                                                         \n",
      "+-----------------------------------------------------------------------------------------+\n",
      "| Processes:                                                                              |\n",
      "|  GPU   GI   CI        PID   Type   Process name                              GPU Memory |\n",
      "|        ID   ID                                                               Usage      |\n",
      "|=========================================================================================|\n",
      "+-----------------------------------------------------------------------------------------+\n"
     ]
    }
   ],
   "source": [
    "nvidia-smi"
   ]
  },
  {
   "cell_type": "code",
   "execution_count": 2,
   "metadata": {
    "vscode": {
     "languageId": "shellscript"
    }
   },
   "outputs": [],
   "source": [
    "export nnUNet_raw=\"/home/jovyan/nnUNet_raw\"\n",
    "export nnUNet_preprocessed=\"/home/jovyan/nnUNet_preprocessed\"\n",
    "export nnUNet_results=\"/home/jovyan/nnUNet_results\""
   ]
  },
  {
   "cell_type": "code",
   "execution_count": 3,
   "metadata": {
    "vscode": {
     "languageId": "shellscript"
    }
   },
   "outputs": [
    {
     "name": "stdout",
     "output_type": "stream",
     "text": [
      "/home/jovyan/nnUNet_raw\n",
      "/bin/bash\n"
     ]
    }
   ],
   "source": [
    "echo $nnUNet_raw\n",
    "echo $SHELL"
   ]
  },
  {
   "cell_type": "markdown",
   "metadata": {},
   "source": [
    "Editing the number of epochs"
   ]
  },
  {
   "cell_type": "code",
   "execution_count": null,
   "metadata": {
    "vscode": {
     "languageId": "shellscript"
    }
   },
   "outputs": [],
   "source": [
    "cat /home/jovyan/.local/lib/python3.10/site-packages/nnunetv2/training/nnUNetTrainer/nnUNetTrainer.py\n",
    "#nano /home/jovyan/.local/lib/python3.10/site-packages/nnunetv2/training/nnUNetTrainer/nnUNetTrainer.py"
   ]
  },
  {
   "cell_type": "code",
   "execution_count": null,
   "metadata": {
    "vscode": {
     "languageId": "shellscript"
    }
   },
   "outputs": [],
   "source": [
    "chmod +x x.sh"
   ]
  },
  {
   "cell_type": "code",
   "execution_count": null,
   "metadata": {
    "vscode": {
     "languageId": "shellscript"
    }
   },
   "outputs": [],
   "source": [
    "./x.sh"
   ]
  },
  {
   "cell_type": "markdown",
   "metadata": {},
   "source": [
    "# Training 2d"
   ]
  },
  {
   "cell_type": "code",
   "execution_count": null,
   "metadata": {
    "vscode": {
     "languageId": "shellscript"
    }
   },
   "outputs": [],
   "source": [
    "#!/bin/bash\n",
    "\n",
    "export nnUNet_raw=\"/home/jovyan/nnUNet_raw\"\n",
    "export nnUNet_preprocessed=\"/home/jovyan/nnUNet_preprocessed\"\n",
    "export nnUNet_results=\"/home/jovyan/nnUNet_results\"\n",
    "\n",
    "CUDA_VISIBLE_DEVICES=1 .local/bin/nnUNetv2_train -device \"cuda\" 100 2d 0 & \n",
    "sleep 120\n",
    "CUDA_VISIBLE_DEVICES=2 .local/bin/nnUNetv2_train -device \"cuda\" 100 2d 1 & \n",
    "sleep 120\n",
    "CUDA_VISIBLE_DEVICES=3 .local/bin/nnUNetv2_train -device \"cuda\" 100 2d 2 & \n",
    "sleep 120\n",
    "CUDA_VISIBLE_DEVICES=4 .local/bin/nnUNetv2_train -device \"cuda\" 100 2d 3 & \n",
    "sleep 120\n",
    "CUDA_VISIBLE_DEVICES=5 .local/bin/nnUNetv2_train -device \"cuda\" 100 2d 4 & \n",
    "sleep 120\n",
    "wait"
   ]
  },
  {
   "cell_type": "markdown",
   "metadata": {},
   "source": [
    "# Training 3d_low_res"
   ]
  },
  {
   "cell_type": "code",
   "execution_count": null,
   "metadata": {
    "vscode": {
     "languageId": "shellscript"
    }
   },
   "outputs": [],
   "source": [
    "#!/bin/bash\n",
    "\n",
    "export nnUNet_raw=\"/home/jovyan/nnUNet_raw\"\n",
    "export nnUNet_preprocessed=\"/home/jovyan/nnUNet_preprocessed\"\n",
    "export nnUNet_results=\"/home/jovyan/nnUNet_results\"\n",
    "\n",
    "CUDA_VISIBLE_DEVICES=6 .local/bin/nnUNetv2_train -device \"cuda\" 100 3d_lowres 0 &\n",
    "sleep 120\n",
    "CUDA_VISIBLE_DEVICES=7 .local/bin/nnUNetv2_train -device \"cuda\" 100 3d_lowres 1 &\n",
    "sleep 120\n",
    "CUDA_VISIBLE_DEVICES=5 .local/bin/nnUNetv2_train -device \"cuda\" 100 3d_lowres 2 & \n",
    "sleep 120\n",
    "CUDA_VISIBLE_DEVICES=6 .local/bin/nnUNetv2_train -device \"cuda\" 100 3d_lowres 3 & \n",
    "sleep 120\n",
    "CUDA_VISIBLE_DEVICES=7 .local/bin/nnUNetv2_train -device \"cuda\" 100 3d_lowres 4 & \n",
    "sleep 120\n",
    "wait"
   ]
  },
  {
   "cell_type": "markdown",
   "metadata": {},
   "source": [
    "# Training 3d_full_res"
   ]
  },
  {
   "cell_type": "code",
   "execution_count": null,
   "metadata": {
    "vscode": {
     "languageId": "shellscript"
    }
   },
   "outputs": [],
   "source": [
    "#!/bin/bash\n",
    "\n",
    "export nnUNet_raw=\"/home/jovyan/nnUNet_raw\"\n",
    "export nnUNet_preprocessed=\"/home/jovyan/nnUNet_preprocessed\"\n",
    "export nnUNet_results=\"/home/jovyan/nnUNet_results\"\n",
    "\n",
    "CUDA_VISIBLE_DEVICES=1 .local/bin/nnUNetv2_train -device \"cuda\" 100 3d_fullres 0 & \n",
    "sleep 120\n",
    "CUDA_VISIBLE_DEVICES=2 .local/bin/nnUNetv2_train -device \"cuda\" 100 3d_fullres 1 & \n",
    "sleep 120\n",
    "CUDA_VISIBLE_DEVICES=3 .local/bin/nnUNetv2_train -device \"cuda\" 100 3d_fullres 2 & \n",
    "sleep 120\n",
    "CUDA_VISIBLE_DEVICES=4 .local/bin/nnUNetv2_train -device \"cuda\" 100 3d_fullres 3 & \n",
    "sleep 120\n",
    "CUDA_VISIBLE_DEVICES=5 .local/bin/nnUNetv2_train -device \"cuda\" 100 3d_fullres 4 & \n",
    "sleep 120\n",
    "wait"
   ]
  },
  {
   "cell_type": "markdown",
   "metadata": {},
   "source": [
    "# 3d_cascade_fullres"
   ]
  },
  {
   "cell_type": "code",
   "execution_count": null,
   "metadata": {
    "vscode": {
     "languageId": "shellscript"
    }
   },
   "outputs": [
    {
     "name": "stdout",
     "output_type": "stream",
     "text": [
      "[1] 22071\n",
      "\n",
      "############################\n",
      "INFO: You are using the old nnU-Net default plans. We have updated our recommendations. Please consider using those instead! Read more here: https://github.com/MIC-DKFZ/nnUNet/blob/master/documentation/resenc_presets.md\n",
      "############################\n",
      "\n",
      "Using device: cuda:0\n",
      "\n",
      "#######################################################################\n",
      "Please cite the following paper when using nnU-Net:\n",
      "Isensee, F., Jaeger, P. F., Kohl, S. A., Petersen, J., & Maier-Hein, K. H. (2021). nnU-Net: a self-configuring method for deep learning-based biomedical image segmentation. Nature methods, 18(2), 203-211.\n",
      "#######################################################################\n",
      "\n",
      "2025-03-26 23:41:05.073457: Using torch.compile...\n",
      "2025-03-26 23:41:05.951253: do_dummy_2d_data_aug: False\n",
      "2025-03-26 23:41:05.955564: Using splits from existing split file: /home/jovyan/nnUNet_preprocessed/Dataset100_normal/splits_final.json\n",
      "2025-03-26 23:41:05.959140: The split file contains 5 splits.\n",
      "2025-03-26 23:41:05.960951: Desired fold for training: 0\n",
      "2025-03-26 23:41:05.963131: This split has 16 training and 4 validation cases.\n",
      "using pin_memory on device 0\n",
      "using pin_memory on device 0\n",
      "\n",
      "This is the configuration used by this training:\n",
      "Configuration name: 3d_cascade_fullres\n",
      " {'data_identifier': 'nnUNetPlans_3d_fullres', 'preprocessor_name': 'DefaultPreprocessor', 'batch_size': 2, 'patch_size': [64, 192, 192], 'median_image_size_in_voxels': [210.0, 512.0, 512.0], 'spacing': [0.625, 0.3818355, 0.3818355], 'normalization_schemes': ['CTNormalization'], 'use_mask_for_norm': [False], 'resampling_fn_data': 'resample_data_or_seg_to_shape', 'resampling_fn_seg': 'resample_data_or_seg_to_shape', 'resampling_fn_data_kwargs': {'is_seg': False, 'order': 3, 'order_z': 0, 'force_separate_z': None}, 'resampling_fn_seg_kwargs': {'is_seg': True, 'order': 1, 'order_z': 0, 'force_separate_z': None}, 'resampling_fn_probabilities': 'resample_data_or_seg_to_shape', 'resampling_fn_probabilities_kwargs': {'is_seg': False, 'order': 1, 'order_z': 0, 'force_separate_z': None}, 'architecture': {'network_class_name': 'dynamic_network_architectures.architectures.unet.PlainConvUNet', 'arch_kwargs': {'n_stages': 6, 'features_per_stage': [32, 64, 128, 256, 320, 320], 'conv_op': 'torch.nn.modules.conv.Conv3d', 'kernel_sizes': [[3, 3, 3], [3, 3, 3], [3, 3, 3], [3, 3, 3], [3, 3, 3], [3, 3, 3]], 'strides': [[1, 1, 1], [2, 2, 2], [2, 2, 2], [2, 2, 2], [2, 2, 2], [1, 2, 2]], 'n_conv_per_stage': [2, 2, 2, 2, 2, 2], 'n_conv_per_stage_decoder': [2, 2, 2, 2, 2], 'conv_bias': True, 'norm_op': 'torch.nn.modules.instancenorm.InstanceNorm3d', 'norm_op_kwargs': {'eps': 1e-05, 'affine': True}, 'dropout_op': None, 'dropout_op_kwargs': None, 'nonlin': 'torch.nn.LeakyReLU', 'nonlin_kwargs': {'inplace': True}}, '_kw_requires_import': ['conv_op', 'norm_op', 'dropout_op', 'nonlin']}, 'batch_dice': True, 'inherits_from': '3d_fullres', 'previous_stage': '3d_lowres'} \n",
      "\n",
      "These are the global plan.json settings:\n",
      " {'dataset_name': 'Dataset100_normal', 'plans_name': 'nnUNetPlans', 'original_median_spacing_after_transp': [0.625, 0.3818355, 0.3818355], 'original_median_shape_after_transp': [210, 512, 512], 'image_reader_writer': 'SimpleITKIO', 'transpose_forward': [0, 1, 2], 'transpose_backward': [0, 1, 2], 'experiment_planner_used': 'ExperimentPlanner', 'label_manager': 'LabelManager', 'foreground_intensity_properties_per_channel': {'0': {'max': 1592.0, 'mean': 386.3207092285156, 'median': 379.0, 'min': -370.0, 'percentile_00_5': 160.0, 'percentile_99_5': 668.0, 'std': 105.92166900634766}}} \n",
      "\n",
      "2025-03-26 23:41:08.233130: Unable to plot network architecture: nnUNet_compile is enabled!\n",
      "2025-03-26 23:41:08.285058: \n",
      "2025-03-26 23:41:08.288079: Epoch 0\n",
      "2025-03-26 23:41:08.289780: Current learning rate: 0.01\n"
     ]
    }
   ],
   "source": [
    "#!/bin/bash\n",
    "\n",
    "export nnUNet_raw=\"/home/jovyan/nnUNet_raw\"\n",
    "export nnUNet_preprocessed=\"/home/jovyan/nnUNet_preprocessed\"\n",
    "export nnUNet_results=\"/home/jovyan/nnUNet_results\"\n",
    "\n",
    "CUDA_VISIBLE_DEVICES=6 .local/bin/nnUNetv2_train -device \"cuda\" 100 3d_cascade_fullres 0 & \n",
    "sleep 120\n",
    "CUDA_VISIBLE_DEVICES=2,7 .local/bin/nnUNetv2_train -device \"cuda\" 100 3d_cascade_fullres 1 -num_gpus 2 & \n",
    "sleep 120\n",
    "CUDA_VISIBLE_DEVICES=3 .local/bin/nnUNetv2_train -device \"cuda\" 100 3d_cascade_fullres 2 & \n",
    "sleep 120\n",
    "CUDA_VISIBLE_DEVICES=4 .local/bin/nnUNetv2_train -device \"cuda\" 100 3d_cascade_fullres 3 & \n",
    "sleep 120\n",
    "CUDA_VISIBLE_DEVICES=5 .local/bin/nnUNetv2_train -device \"cuda\" 100 3d_cascade_fullres 4 & \n",
    "sleep 120\n",
    "wait"
   ]
  },
  {
   "cell_type": "markdown",
   "metadata": {},
   "source": [
    "# Predictions Test"
   ]
  },
  {
   "cell_type": "code",
   "execution_count": null,
   "metadata": {
    "vscode": {
     "languageId": "shellscript"
    }
   },
   "outputs": [],
   "source": [
    "#!/bin/bash\n",
    "\n",
    "export nnUNet_raw=\"/home/jovyan/nnUNet_raw\"\n",
    "export nnUNet_preprocessed=\"/home/jovyan/nnUNet_preprocessed\"\n",
    "export nnUNet_results=\"/home/jovyan/nnUNet_results\"\n",
    "\n",
    "CUDA_VISIBLE_DEVICES=1 nnUNetv2_predict -i /home/jovyan/nnUNet_raw/Dataset100_normal/imagesTs -o /home/jovyan/nnUNet_results/Dataset100_normal/inference/test/3d_fullres -d 100 -f  0 1 2 3 4 -tr nnUNetTrainer -c 3d_fullres -p nnUNetPlans --save_probabilities\n",
    "CUDA_VISIBLE_DEVICES=2 nnUNetv2_predict -i /home/jovyan/nnUNet_raw/Dataset100_normal/imagesTs -o /home/jovyan/nnUNet_results/Dataset100_normal/inference/test/3d_lowres -d 100 -f  0 1 2 3 4 -tr nnUNetTrainer -c 3d_lowres -p nnUNetPlans --save_probabilities\n",
    "CUDA_VISIBLE_DEVICES=3 nnUNetv2_predict -i /home/jovyan/nnUNet_raw/Dataset100_normal/imagesTs -o /home/jovyan/nnUNet_results/Dataset100_normal/inference/test/2d -d 100 -f  0 1 2 3 4 -tr nnUNetTrainer -c 2d -p nnUNetPlans --save_probabilities\n",
    "wait\n",
    "CUDA_VISIBLE_DEVICES=1 nnUNetv2_predict -i /home/jovyan/nnUNet_raw/Dataset100_normal/imagesTs -o /home/jovyan/nnUNet_results/Dataset100_normal/inference/test/3d_cascade_fullres -d 100 -f  0 1 2 3 4 -prev_stage_predictions /home/jovyan/nnUNet_results/Dataset100_normal/inference/test/3d_lowres -tr nnUNetTrainer -c 3d_cascade_fullres -p nnUNetPlans --save_probabilities\n",
    "wait\n",
    "nnUNetv2_ensemble -i /home/jovyan/nnUNet_results/Dataset100_normal/inference/test/3d_cascade_fullres /home/jovyan/nnUNet_results/Dataset100_normal/inference/test/2d /home/jovyan/nnUNet_results/Dataset100_normal/inference/test/3d_fullres /home/jovyan/nnUNet_results/Dataset100_normal/inference/test/3d_lowres -o /home/jovyan/nnUNet_results/Dataset100_normal/inference/test/ensemble -np 36 --save_npz \n"
   ]
  },
  {
   "cell_type": "markdown",
   "metadata": {},
   "source": [
    "# Predictions Train"
   ]
  },
  {
   "cell_type": "code",
   "execution_count": null,
   "metadata": {
    "vscode": {
     "languageId": "shellscript"
    }
   },
   "outputs": [],
   "source": [
    "#!/bin/bash\n",
    "\n",
    "export nnUNet_raw=\"/home/jovyan/nnUNet_raw\"\n",
    "export nnUNet_preprocessed=\"/home/jovyan/nnUNet_preprocessed\"\n",
    "export nnUNet_results=\"/home/jovyan/nnUNet_results\"\n",
    "\n",
    "CUDA_VISIBLE_DEVICES=1 nnUNetv2_predict -i /home/jovyan/nnUNet_raw/Dataset100_normal/imagesTr -o /home/jovyan/nnUNet_results/Dataset100_normal/inference/train/3d_fullres -d 100 -f 0 1 2 3 4 -tr nnUNetTrainer -c 3d_fullres -p nnUNetPlans --save_probabilities\n",
    "CUDA_VISIBLE_DEVICES=2 nnUNetv2_predict -i /home/jovyan/nnUNet_raw/Dataset100_normal/imagesTr -o /home/jovyan/nnUNet_results/Dataset100_normal/inference/train/3d_lowres -d 100 -f 0 1 2 3 4 -tr nnUNetTrainer -c 3d_lowres -p nnUNetPlans --save_probabilities\n",
    "CUDA_VISIBLE_DEVICES=3 nnUNetv2_predict -i /home/jovyan/nnUNet_raw/Dataset100_normal/imagesTr -o /home/jovyan/nnUNet_results/Dataset100_normal/inference/train/2d -d 100 -f 0 1 2 3 4 -tr nnUNetTrainer -c 2d -p nnUNetPlans --save_probabilities\n",
    "wait\n",
    "CUDA_VISIBLE_DEVICES=1 nnUNetv2_predict -i /home/jovyan/nnUNet_raw/Dataset100_normal/imagesTr -o /home/jovyan/nnUNet_results/Dataset100_normal/inference/train/3d_cascade_fullres -d 100 -f 0 1 2 3 4 -prev_stage_predictions /home/jovyan/nnUNet_results/Dataset100_normal/inference/train/3d_lowres -tr nnUNetTrainer -c 3d_cascade_fullres -p nnUNetPlans --save_probabilities\n",
    "wait\n",
    "nnUNetv2_ensemble -i /home/jovyan/nnUNet_results/Dataset100_normal/inference/train/3d_cascade_fullres /home/jovyan/nnUNet_results/Dataset100_normal/inference/train/2d /home/jovyan/nnUNet_results/Dataset100_normal/inference/train/3d_fullres /home/jovyan/nnUNet_results/Dataset100_normal/inference/train/3d_lowres -o /home/jovyan/nnUNet_results/Dataset100_normal/inference/train/ensemble -np 36 --save_npz\n",
    "wait"
   ]
  },
  {
   "cell_type": "code",
   "execution_count": null,
   "metadata": {
    "vscode": {
     "languageId": "shellscript"
    }
   },
   "outputs": [],
   "source": [
    "nnUNetv2_evaluate_folder -ref /home/jovyan/nnUNet_raw/Dataset100_normal/labelsTr -pred /home/jovyan/nnUNet_results/Dataset100_normal/inference/train/ensemble -l 100\n"
   ]
  }
 ],
 "metadata": {
  "kernelspec": {
   "display_name": "Bash",
   "language": "bash",
   "name": "bash"
  },
  "language_info": {
   "codemirror_mode": "shell",
   "file_extension": ".sh",
   "mimetype": "text/x-sh",
   "name": "bash"
  }
 },
 "nbformat": 4,
 "nbformat_minor": 2
}
