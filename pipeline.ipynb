{
 "cells": [
  {
   "cell_type": "code",
   "execution_count": 2,
   "metadata": {
    "vscode": {
     "languageId": "shellscript"
    }
   },
   "outputs": [
    {
     "name": "stdout",
     "output_type": "stream",
     "text": [
      "Filesystem      Size  Used Avail Use% Mounted on\n",
      "shm             128G  778M  128G   1% /dev/shm\n"
     ]
    }
   ],
   "source": [
    "df -h /dev/shm"
   ]
  },
  {
   "cell_type": "code",
   "execution_count": null,
   "metadata": {
    "vscode": {
     "languageId": "shellscript"
    }
   },
   "outputs": [
    {
     "name": "stdout",
     "output_type": "stream",
     "text": [
      "Wed Mar 19 11:42:43 2025       \n",
      "+-----------------------------------------------------------------------------------------+\n",
      "| NVIDIA-SMI 555.42.06              Driver Version: 555.42.06      CUDA Version: 12.5     |\n",
      "|-----------------------------------------+------------------------+----------------------+\n",
      "| GPU  Name                 Persistence-M | Bus-Id          Disp.A | Volatile Uncorr. ECC |\n",
      "| Fan  Temp   Perf          Pwr:Usage/Cap |           Memory-Usage | GPU-Util  Compute M. |\n",
      "|                                         |                        |               MIG M. |\n",
      "|=========================================+========================+======================|\n",
      "|   0  NVIDIA A16                     Off |   00000000:1B:00.0 Off |                    0 |\n",
      "|  0%   37C    P0             28W /   62W |     157MiB /  15356MiB |     20%      Default |\n",
      "|                                         |                        |                  N/A |\n",
      "+-----------------------------------------+------------------------+----------------------+\n",
      "|   1  NVIDIA A16                     Off |   00000000:1C:00.0 Off |                    0 |\n",
      "|  0%   32C    P8             15W /   62W |       4MiB /  15356MiB |      0%      Default |\n",
      "|                                         |                        |                  N/A |\n",
      "+-----------------------------------------+------------------------+----------------------+\n",
      "|   2  NVIDIA A16                     Off |   00000000:1D:00.0 Off |                    0 |\n",
      "|  0%   29C    P8             15W /   62W |       4MiB /  15356MiB |      0%      Default |\n",
      "|                                         |                        |                  N/A |\n",
      "+-----------------------------------------+------------------------+----------------------+\n",
      "|   3  NVIDIA A16                     Off |   00000000:1E:00.0 Off |                    0 |\n",
      "|  0%   28C    P8             15W /   62W |       4MiB /  15356MiB |      0%      Default |\n",
      "|                                         |                        |                  N/A |\n",
      "+-----------------------------------------+------------------------+----------------------+\n",
      "|   4  NVIDIA A16                     Off |   00000000:CE:00.0 Off |                    0 |\n",
      "|  0%   31C    P8             15W /   62W |       4MiB /  15356MiB |      0%      Default |\n",
      "|                                         |                        |                  N/A |\n",
      "+-----------------------------------------+------------------------+----------------------+\n",
      "|   5  NVIDIA A16                     Off |   00000000:CF:00.0 Off |                    0 |\n",
      "|  0%   54C    P0             59W /   62W |   12608MiB /  15356MiB |    100%      Default |\n",
      "|                                         |                        |                  N/A |\n",
      "+-----------------------------------------+------------------------+----------------------+\n",
      "|   6  NVIDIA A16                     Off |   00000000:D0:00.0 Off |                    0 |\n",
      "|  0%   28C    P8             15W /   62W |       4MiB /  15356MiB |      0%      Default |\n",
      "|                                         |                        |                  N/A |\n",
      "+-----------------------------------------+------------------------+----------------------+\n",
      "|   7  NVIDIA A16                     Off |   00000000:D1:00.0 Off |                    0 |\n",
      "|  0%   27C    P8             15W /   62W |       4MiB /  15356MiB |      0%      Default |\n",
      "|                                         |                        |                  N/A |\n",
      "+-----------------------------------------+------------------------+----------------------+\n",
      "                                                                                         \n",
      "+-----------------------------------------------------------------------------------------+\n",
      "| Processes:                                                                              |\n",
      "|  GPU   GI   CI        PID   Type   Process name                              GPU Memory |\n",
      "|        ID   ID                                                               Usage      |\n",
      "|=========================================================================================|\n",
      "+-----------------------------------------------------------------------------------------+\n"
     ]
    }
   ],
   "source": [
    "nvidia-smi"
   ]
  },
  {
   "cell_type": "code",
   "execution_count": 3,
   "metadata": {
    "vscode": {
     "languageId": "shellscript"
    }
   },
   "outputs": [],
   "source": [
    "export nnUNet_raw=\"/home/jovyan/nnUNet_raw\"\n",
    "export nnUNet_preprocessed=\"/home/jovyan/nnUNet_preprocessed\"\n",
    "export nnUNet_results=\"/home/jovyan/nnUNet_results\""
   ]
  },
  {
   "cell_type": "code",
   "execution_count": 4,
   "metadata": {
    "vscode": {
     "languageId": "shellscript"
    }
   },
   "outputs": [
    {
     "name": "stdout",
     "output_type": "stream",
     "text": [
      "/home/jovyan/nnUNet_raw\n",
      "/bin/bash\n"
     ]
    }
   ],
   "source": [
    "echo $nnUNet_raw\n",
    "echo $SHELL"
   ]
  },
  {
   "cell_type": "code",
   "execution_count": null,
   "metadata": {
    "vscode": {
     "languageId": "shellscript"
    }
   },
   "outputs": [
    {
     "name": "stdout",
     "output_type": "stream",
     "text": [
      "Package                 Version\n",
      "----------------------- ---------\n",
      "anaconda-anon-usage     0.4.4\n",
      "archspec                0.2.3\n",
      "boltons                 23.0.0\n",
      "Brotli                  1.0.9\n",
      "certifi                 2025.1.31\n",
      "cffi                    1.16.0\n",
      "charset-normalizer      2.0.4\n",
      "conda                   24.11.3\n",
      "conda-content-trust     0.2.0\n",
      "conda-libmamba-solver   24.1.0\n",
      "conda-package-handling  2.2.0\n",
      "conda_package_streaming 0.9.0\n",
      "cryptography            42.0.5\n",
      "distro                  1.8.0\n",
      "frozendict              2.4.2\n",
      "idna                    3.4\n",
      "jsonpatch               1.33\n",
      "jsonpointer             2.1\n",
      "libmambapy              1.5.8\n",
      "menuinst                2.0.2\n",
      "packaging               23.2\n",
      "pip                     23.3.1\n",
      "platformdirs            3.10.0\n",
      "pluggy                  1.0.0\n",
      "pycosat                 0.6.6\n",
      "pycparser               2.21\n",
      "PySocks                 1.7.1\n",
      "requests                2.31.0\n",
      "ruamel.yaml             0.17.21\n",
      "setuptools              68.2.2\n",
      "tqdm                    4.65.0\n",
      "truststore              0.8.0\n",
      "urllib3                 2.1.0\n",
      "wheel                   0.41.2\n",
      "zstandard               0.19.0\n"
     ]
    }
   ],
   "source": [
    "pip list"
   ]
  },
  {
   "cell_type": "markdown",
   "metadata": {},
   "source": [
    "# Training 2d"
   ]
  },
  {
   "cell_type": "code",
   "execution_count": null,
   "metadata": {
    "vscode": {
     "languageId": "shellscript"
    }
   },
   "outputs": [],
   "source": [
    "export CUDA_VISIBLE_DEVICES=3 &\n",
    ".local/bin/nnUNetv2_train -device \"cuda\" 100 2d 0 & \n",
    "export CUDA_VISIBLE_DEVICES=4 & \n",
    ".local/bin/nnUNetv2_train -device \"cuda\" 100 2d 1 & \n",
    "export CUDA_VISIBLE_DEVICES=5 & \n",
    ".local/bin/nnUNetv2_train -device \"cuda\" 100 2d 2 & \n",
    "export CUDA_VISIBLE_DEVICES=6 & \n",
    ".local/bin/nnUNetv2_train -device \"cuda\" 100 2d 3 & \n",
    "export CUDA_VISIBLE_DEVICES=7 & \n",
    ".local/bin/nnUNetv2_train -device \"cuda\" 100 2d 4 & \n",
    "wait"
   ]
  },
  {
   "cell_type": "markdown",
   "metadata": {},
   "source": [
    "# Training 3d_low_res"
   ]
  },
  {
   "cell_type": "code",
   "execution_count": null,
   "metadata": {
    "vscode": {
     "languageId": "shellscript"
    }
   },
   "outputs": [],
   "source": [
    "export CUDA_VISIBLE_DEVICES=3 &\n",
    ".local/bin/nnUNetv2_train -device \"cuda\" 100 3d_lowres 0 &\n",
    "export CUDA_VISIBLE_DEVICES=4 &\n",
    ".local/bin/nnUNetv2_train -device \"cuda\" 100 3d_lowres 1 &\n",
    "export CUDA_VISIBLE_DEVICES=5 &\n",
    ".local/bin/nnUNetv2_train -device \"cuda\" 100 3d_lowres 2 & \n",
    "export CUDA_VISIBLE_DEVICES=6 & \n",
    ".local/bin/nnUNetv2_train -device \"cuda\" 100 3d_lowres 3 & \n",
    "export CUDA_VISIBLE_DEVICES=7 & \n",
    ".local/bin/nnUNetv2_train -device \"cuda\" 100 3d_lowres 4 & \n",
    "wait"
   ]
  },
  {
   "cell_type": "markdown",
   "metadata": {},
   "source": [
    "# Training 3d_full_res"
   ]
  },
  {
   "cell_type": "code",
   "execution_count": null,
   "metadata": {
    "vscode": {
     "languageId": "shellscript"
    }
   },
   "outputs": [],
   "source": [
    "export CUDA_VISIBLE_DEVICES=3 &\n",
    ".local/bin/nnUNetv2_train -device \"cuda\" 100 3d_fullres 0 &\n",
    "export CUDA_VISIBLE_DEVICES=4 &\n",
    ".local/bin/nnUNetv2_train -device \"cuda\" 100 3d_fullres 1 &\n",
    "export CUDA_VISIBLE_DEVICES=5 &\n",
    ".local/bin/nnUNetv2_train -device \"cuda\" 100 3d_fullres 2 & \n",
    "export CUDA_VISIBLE_DEVICES=6 & \n",
    ".local/bin/nnUNetv2_train -device \"cuda\" 100 3d_fullres 3 & \n",
    "export CUDA_VISIBLE_DEVICES=7 & \n",
    ".local/bin/nnUNetv2_train -device \"cuda\" 100 3d_fullres 4 "
   ]
  }
 ],
 "metadata": {
  "kernelspec": {
   "display_name": "Bash",
   "language": "bash",
   "name": "bash"
  },
  "language_info": {
   "name": "",
   "version": ""
  }
 },
 "nbformat": 4,
 "nbformat_minor": 2
}
